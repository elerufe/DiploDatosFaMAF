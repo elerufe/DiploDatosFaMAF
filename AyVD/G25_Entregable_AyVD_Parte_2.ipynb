{
  "cells": [
    {
      "cell_type": "markdown",
      "source": [
        "#Grupo 25 - Entregable AyVD\n",
        "#Parte 2 de 2\n",
        "\n",
        "Integrantes:\n",
        "\n",
        "Rufeil Fiori, Elena\n",
        "\n",
        "Sosa, Manuel\n",
        "\n",
        "Taié Mirón, Macarena\n",
        "\n",
        "Yurovich, Luis Federico"
      ],
      "metadata": {
        "id": "BeoTrjz4E_Sf"
      }
    },
    {
      "cell_type": "markdown",
      "metadata": {
        "id": "LYvAOR2VzHmW"
      },
      "source": [
        "\n",
        "**Diplomatura en Ciencia de Datos, Aprendizaje Automático y sus Aplicaciones**\n",
        "\n",
        "**Edición 2022**\n",
        "\n",
        "---\n",
        "\n",
        "# Trabajo práctico entregable - Parte 2"
      ]
    },
    {
      "cell_type": "code",
      "execution_count": null,
      "metadata": {
        "id": "Xwdfo7z20TUK"
      },
      "outputs": [],
      "source": [
        "import io\n",
        "import matplotlib\n",
        "import matplotlib.pyplot as plt\n",
        "import numpy\n",
        "import pandas as pd\n",
        "import seaborn\n",
        "import scipy.stats\n",
        "\n",
        "seaborn.set_context('talk')"
      ]
    },
    {
      "cell_type": "markdown",
      "metadata": {
        "id": "XY2Hl-Ma07Nn"
      },
      "source": [
        "## Lectura del dataset\n",
        "\n",
        "En la notebook 00 se explican los detalles de la siguiente sección."
      ]
    },
    {
      "cell_type": "code",
      "execution_count": null,
      "metadata": {
        "id": "Vviv_sqXdR5W"
      },
      "outputs": [],
      "source": [
        "url = 'https://cs.famaf.unc.edu.ar/~mteruel/datasets/diplodatos/sysarmy_survey_2020_processed.csv'\n",
        "df = pd.read_csv(url)"
      ]
    },
    {
      "cell_type": "code",
      "execution_count": null,
      "metadata": {
        "colab": {
          "base_uri": "https://localhost:8080/",
          "height": 323
        },
        "id": "gckNHXXLktJ4",
        "outputId": "796471e0-d573-4e27-c136-881802a5798c"
      },
      "outputs": [
        {
          "output_type": "execute_result",
          "data": {
            "text/plain": [
              "  profile_gender  profile_age work_country                    work_province  \\\n",
              "0          Mujer           26    Argentina  Ciudad Autónoma de Buenos Aires   \n",
              "1         Hombre           29    Argentina                       Corrientes   \n",
              "2          Mujer           22    Argentina  Ciudad Autónoma de Buenos Aires   \n",
              "\n",
              "   profile_years_experience  work_years_in_company  \\\n",
              "0                       3.0                    3.0   \n",
              "1                       5.0                    2.0   \n",
              "2                       2.0                    0.0   \n",
              "\n",
              "   work_years_in_current_position  work_people_in_charge_of  \\\n",
              "0                             3.0                         0   \n",
              "1                             2.0                         4   \n",
              "2                             0.0                         0   \n",
              "\n",
              "  profile_studies_level profile_studies_level_state  ...  \\\n",
              "0         Universitario                    En curso  ...   \n",
              "1         Universitario                    En curso  ...   \n",
              "2            Secundario                  Completado  ...   \n",
              "\n",
              "  work_has_violence_situations profile_sexual_orientation  \\\n",
              "0         En mi trabajo actual                 Homosexual   \n",
              "1                        Jamás               Heterosexual   \n",
              "2       En un trabajo anterior           Bisexual o queer   \n",
              "\n",
              "  profile_has_disabilities profile_has_disabilities_hiring_difficulties  \\\n",
              "0                      NaN                                          NaN   \n",
              "1                   Visual                                           No   \n",
              "2                      NaN                                           No   \n",
              "\n",
              "  company_employee_number                          company_main_activity  \\\n",
              "0                501-1000  Servicios / Consultoría de Software / Digital   \n",
              "1                 201-500                               Otras industrias   \n",
              "2               2001-5000                               Otras industrias   \n",
              "\n",
              "  company_recommended company_diversity_policies  \\\n",
              "0                   7                          2   \n",
              "1                   8                          9   \n",
              "2                   6                          9   \n",
              "\n",
              "                              company_extra_benefits  \\\n",
              "0  Capacitaciones y/o cursos, Comidas pagas / sub...   \n",
              "1  Horarios flexibles, Stock options / RSUs, Viát...   \n",
              "2  Clases de gimnasia online, Comidas pagas / sub...   \n",
              "\n",
              "  company_best_companies_city  \n",
              "0                         NaN  \n",
              "1                         NaN  \n",
              "2                         NaN  \n",
              "\n",
              "[3 rows x 48 columns]"
            ],
            "text/html": [
              "\n",
              "  <div id=\"df-3305d253-31dc-4278-8759-3e3bc14d66e7\">\n",
              "    <div class=\"colab-df-container\">\n",
              "      <div>\n",
              "<style scoped>\n",
              "    .dataframe tbody tr th:only-of-type {\n",
              "        vertical-align: middle;\n",
              "    }\n",
              "\n",
              "    .dataframe tbody tr th {\n",
              "        vertical-align: top;\n",
              "    }\n",
              "\n",
              "    .dataframe thead th {\n",
              "        text-align: right;\n",
              "    }\n",
              "</style>\n",
              "<table border=\"1\" class=\"dataframe\">\n",
              "  <thead>\n",
              "    <tr style=\"text-align: right;\">\n",
              "      <th></th>\n",
              "      <th>profile_gender</th>\n",
              "      <th>profile_age</th>\n",
              "      <th>work_country</th>\n",
              "      <th>work_province</th>\n",
              "      <th>profile_years_experience</th>\n",
              "      <th>work_years_in_company</th>\n",
              "      <th>work_years_in_current_position</th>\n",
              "      <th>work_people_in_charge_of</th>\n",
              "      <th>profile_studies_level</th>\n",
              "      <th>profile_studies_level_state</th>\n",
              "      <th>...</th>\n",
              "      <th>work_has_violence_situations</th>\n",
              "      <th>profile_sexual_orientation</th>\n",
              "      <th>profile_has_disabilities</th>\n",
              "      <th>profile_has_disabilities_hiring_difficulties</th>\n",
              "      <th>company_employee_number</th>\n",
              "      <th>company_main_activity</th>\n",
              "      <th>company_recommended</th>\n",
              "      <th>company_diversity_policies</th>\n",
              "      <th>company_extra_benefits</th>\n",
              "      <th>company_best_companies_city</th>\n",
              "    </tr>\n",
              "  </thead>\n",
              "  <tbody>\n",
              "    <tr>\n",
              "      <th>0</th>\n",
              "      <td>Mujer</td>\n",
              "      <td>26</td>\n",
              "      <td>Argentina</td>\n",
              "      <td>Ciudad Autónoma de Buenos Aires</td>\n",
              "      <td>3.0</td>\n",
              "      <td>3.0</td>\n",
              "      <td>3.0</td>\n",
              "      <td>0</td>\n",
              "      <td>Universitario</td>\n",
              "      <td>En curso</td>\n",
              "      <td>...</td>\n",
              "      <td>En mi trabajo actual</td>\n",
              "      <td>Homosexual</td>\n",
              "      <td>NaN</td>\n",
              "      <td>NaN</td>\n",
              "      <td>501-1000</td>\n",
              "      <td>Servicios / Consultoría de Software / Digital</td>\n",
              "      <td>7</td>\n",
              "      <td>2</td>\n",
              "      <td>Capacitaciones y/o cursos, Comidas pagas / sub...</td>\n",
              "      <td>NaN</td>\n",
              "    </tr>\n",
              "    <tr>\n",
              "      <th>1</th>\n",
              "      <td>Hombre</td>\n",
              "      <td>29</td>\n",
              "      <td>Argentina</td>\n",
              "      <td>Corrientes</td>\n",
              "      <td>5.0</td>\n",
              "      <td>2.0</td>\n",
              "      <td>2.0</td>\n",
              "      <td>4</td>\n",
              "      <td>Universitario</td>\n",
              "      <td>En curso</td>\n",
              "      <td>...</td>\n",
              "      <td>Jamás</td>\n",
              "      <td>Heterosexual</td>\n",
              "      <td>Visual</td>\n",
              "      <td>No</td>\n",
              "      <td>201-500</td>\n",
              "      <td>Otras industrias</td>\n",
              "      <td>8</td>\n",
              "      <td>9</td>\n",
              "      <td>Horarios flexibles, Stock options / RSUs, Viát...</td>\n",
              "      <td>NaN</td>\n",
              "    </tr>\n",
              "    <tr>\n",
              "      <th>2</th>\n",
              "      <td>Mujer</td>\n",
              "      <td>22</td>\n",
              "      <td>Argentina</td>\n",
              "      <td>Ciudad Autónoma de Buenos Aires</td>\n",
              "      <td>2.0</td>\n",
              "      <td>0.0</td>\n",
              "      <td>0.0</td>\n",
              "      <td>0</td>\n",
              "      <td>Secundario</td>\n",
              "      <td>Completado</td>\n",
              "      <td>...</td>\n",
              "      <td>En un trabajo anterior</td>\n",
              "      <td>Bisexual o queer</td>\n",
              "      <td>NaN</td>\n",
              "      <td>No</td>\n",
              "      <td>2001-5000</td>\n",
              "      <td>Otras industrias</td>\n",
              "      <td>6</td>\n",
              "      <td>9</td>\n",
              "      <td>Clases de gimnasia online, Comidas pagas / sub...</td>\n",
              "      <td>NaN</td>\n",
              "    </tr>\n",
              "  </tbody>\n",
              "</table>\n",
              "<p>3 rows × 48 columns</p>\n",
              "</div>\n",
              "      <button class=\"colab-df-convert\" onclick=\"convertToInteractive('df-3305d253-31dc-4278-8759-3e3bc14d66e7')\"\n",
              "              title=\"Convert this dataframe to an interactive table.\"\n",
              "              style=\"display:none;\">\n",
              "        \n",
              "  <svg xmlns=\"http://www.w3.org/2000/svg\" height=\"24px\"viewBox=\"0 0 24 24\"\n",
              "       width=\"24px\">\n",
              "    <path d=\"M0 0h24v24H0V0z\" fill=\"none\"/>\n",
              "    <path d=\"M18.56 5.44l.94 2.06.94-2.06 2.06-.94-2.06-.94-.94-2.06-.94 2.06-2.06.94zm-11 1L8.5 8.5l.94-2.06 2.06-.94-2.06-.94L8.5 2.5l-.94 2.06-2.06.94zm10 10l.94 2.06.94-2.06 2.06-.94-2.06-.94-.94-2.06-.94 2.06-2.06.94z\"/><path d=\"M17.41 7.96l-1.37-1.37c-.4-.4-.92-.59-1.43-.59-.52 0-1.04.2-1.43.59L10.3 9.45l-7.72 7.72c-.78.78-.78 2.05 0 2.83L4 21.41c.39.39.9.59 1.41.59.51 0 1.02-.2 1.41-.59l7.78-7.78 2.81-2.81c.8-.78.8-2.07 0-2.86zM5.41 20L4 18.59l7.72-7.72 1.47 1.35L5.41 20z\"/>\n",
              "  </svg>\n",
              "      </button>\n",
              "      \n",
              "  <style>\n",
              "    .colab-df-container {\n",
              "      display:flex;\n",
              "      flex-wrap:wrap;\n",
              "      gap: 12px;\n",
              "    }\n",
              "\n",
              "    .colab-df-convert {\n",
              "      background-color: #E8F0FE;\n",
              "      border: none;\n",
              "      border-radius: 50%;\n",
              "      cursor: pointer;\n",
              "      display: none;\n",
              "      fill: #1967D2;\n",
              "      height: 32px;\n",
              "      padding: 0 0 0 0;\n",
              "      width: 32px;\n",
              "    }\n",
              "\n",
              "    .colab-df-convert:hover {\n",
              "      background-color: #E2EBFA;\n",
              "      box-shadow: 0px 1px 2px rgba(60, 64, 67, 0.3), 0px 1px 3px 1px rgba(60, 64, 67, 0.15);\n",
              "      fill: #174EA6;\n",
              "    }\n",
              "\n",
              "    [theme=dark] .colab-df-convert {\n",
              "      background-color: #3B4455;\n",
              "      fill: #D2E3FC;\n",
              "    }\n",
              "\n",
              "    [theme=dark] .colab-df-convert:hover {\n",
              "      background-color: #434B5C;\n",
              "      box-shadow: 0px 1px 3px 1px rgba(0, 0, 0, 0.15);\n",
              "      filter: drop-shadow(0px 1px 2px rgba(0, 0, 0, 0.3));\n",
              "      fill: #FFFFFF;\n",
              "    }\n",
              "  </style>\n",
              "\n",
              "      <script>\n",
              "        const buttonEl =\n",
              "          document.querySelector('#df-3305d253-31dc-4278-8759-3e3bc14d66e7 button.colab-df-convert');\n",
              "        buttonEl.style.display =\n",
              "          google.colab.kernel.accessAllowed ? 'block' : 'none';\n",
              "\n",
              "        async function convertToInteractive(key) {\n",
              "          const element = document.querySelector('#df-3305d253-31dc-4278-8759-3e3bc14d66e7');\n",
              "          const dataTable =\n",
              "            await google.colab.kernel.invokeFunction('convertToInteractive',\n",
              "                                                     [key], {});\n",
              "          if (!dataTable) return;\n",
              "\n",
              "          const docLinkHtml = 'Like what you see? Visit the ' +\n",
              "            '<a target=\"_blank\" href=https://colab.research.google.com/notebooks/data_table.ipynb>data table notebook</a>'\n",
              "            + ' to learn more about interactive tables.';\n",
              "          element.innerHTML = '';\n",
              "          dataTable['output_type'] = 'display_data';\n",
              "          await google.colab.output.renderOutput(dataTable, element);\n",
              "          const docLink = document.createElement('div');\n",
              "          docLink.innerHTML = docLinkHtml;\n",
              "          element.appendChild(docLink);\n",
              "        }\n",
              "      </script>\n",
              "    </div>\n",
              "  </div>\n",
              "  "
            ]
          },
          "metadata": {},
          "execution_count": 3
        }
      ],
      "source": [
        "df[:3]"
      ]
    },
    {
      "cell_type": "code",
      "execution_count": null,
      "metadata": {
        "colab": {
          "base_uri": "https://localhost:8080/",
          "height": 206
        },
        "id": "2lzmzK1NuPNT",
        "outputId": "c56453f2-068b-4dab-fc18-fe54e7313f09"
      },
      "outputs": [
        {
          "output_type": "execute_result",
          "data": {
            "text/plain": [
              "               salary_monthly_NETO                                     \\\n",
              "                             count          mean            std   min   \n",
              "profile_gender                                                          \n",
              "Hombre                      4944.0  98836.063558  102159.664237   1.0   \n",
              "Mujer                        908.0  73501.414465   56256.880181   2.0   \n",
              "Otros                         31.0  95441.354839   88635.674358  40.0   \n",
              "\n",
              "                                                       \n",
              "                    25%      50%       75%        max  \n",
              "profile_gender                                         \n",
              "Hombre          53285.0  80000.0  110000.0  2080000.0  \n",
              "Mujer           43818.0  65000.0   92000.0   800000.0  \n",
              "Otros           39500.0  74000.0  117500.0   380000.0  "
            ],
            "text/html": [
              "\n",
              "  <div id=\"df-28c099a7-f7f2-4391-856e-81ae1218bfc7\">\n",
              "    <div class=\"colab-df-container\">\n",
              "      <div>\n",
              "<style scoped>\n",
              "    .dataframe tbody tr th:only-of-type {\n",
              "        vertical-align: middle;\n",
              "    }\n",
              "\n",
              "    .dataframe tbody tr th {\n",
              "        vertical-align: top;\n",
              "    }\n",
              "\n",
              "    .dataframe thead tr th {\n",
              "        text-align: left;\n",
              "    }\n",
              "\n",
              "    .dataframe thead tr:last-of-type th {\n",
              "        text-align: right;\n",
              "    }\n",
              "</style>\n",
              "<table border=\"1\" class=\"dataframe\">\n",
              "  <thead>\n",
              "    <tr>\n",
              "      <th></th>\n",
              "      <th colspan=\"8\" halign=\"left\">salary_monthly_NETO</th>\n",
              "    </tr>\n",
              "    <tr>\n",
              "      <th></th>\n",
              "      <th>count</th>\n",
              "      <th>mean</th>\n",
              "      <th>std</th>\n",
              "      <th>min</th>\n",
              "      <th>25%</th>\n",
              "      <th>50%</th>\n",
              "      <th>75%</th>\n",
              "      <th>max</th>\n",
              "    </tr>\n",
              "    <tr>\n",
              "      <th>profile_gender</th>\n",
              "      <th></th>\n",
              "      <th></th>\n",
              "      <th></th>\n",
              "      <th></th>\n",
              "      <th></th>\n",
              "      <th></th>\n",
              "      <th></th>\n",
              "      <th></th>\n",
              "    </tr>\n",
              "  </thead>\n",
              "  <tbody>\n",
              "    <tr>\n",
              "      <th>Hombre</th>\n",
              "      <td>4944.0</td>\n",
              "      <td>98836.063558</td>\n",
              "      <td>102159.664237</td>\n",
              "      <td>1.0</td>\n",
              "      <td>53285.0</td>\n",
              "      <td>80000.0</td>\n",
              "      <td>110000.0</td>\n",
              "      <td>2080000.0</td>\n",
              "    </tr>\n",
              "    <tr>\n",
              "      <th>Mujer</th>\n",
              "      <td>908.0</td>\n",
              "      <td>73501.414465</td>\n",
              "      <td>56256.880181</td>\n",
              "      <td>2.0</td>\n",
              "      <td>43818.0</td>\n",
              "      <td>65000.0</td>\n",
              "      <td>92000.0</td>\n",
              "      <td>800000.0</td>\n",
              "    </tr>\n",
              "    <tr>\n",
              "      <th>Otros</th>\n",
              "      <td>31.0</td>\n",
              "      <td>95441.354839</td>\n",
              "      <td>88635.674358</td>\n",
              "      <td>40.0</td>\n",
              "      <td>39500.0</td>\n",
              "      <td>74000.0</td>\n",
              "      <td>117500.0</td>\n",
              "      <td>380000.0</td>\n",
              "    </tr>\n",
              "  </tbody>\n",
              "</table>\n",
              "</div>\n",
              "      <button class=\"colab-df-convert\" onclick=\"convertToInteractive('df-28c099a7-f7f2-4391-856e-81ae1218bfc7')\"\n",
              "              title=\"Convert this dataframe to an interactive table.\"\n",
              "              style=\"display:none;\">\n",
              "        \n",
              "  <svg xmlns=\"http://www.w3.org/2000/svg\" height=\"24px\"viewBox=\"0 0 24 24\"\n",
              "       width=\"24px\">\n",
              "    <path d=\"M0 0h24v24H0V0z\" fill=\"none\"/>\n",
              "    <path d=\"M18.56 5.44l.94 2.06.94-2.06 2.06-.94-2.06-.94-.94-2.06-.94 2.06-2.06.94zm-11 1L8.5 8.5l.94-2.06 2.06-.94-2.06-.94L8.5 2.5l-.94 2.06-2.06.94zm10 10l.94 2.06.94-2.06 2.06-.94-2.06-.94-.94-2.06-.94 2.06-2.06.94z\"/><path d=\"M17.41 7.96l-1.37-1.37c-.4-.4-.92-.59-1.43-.59-.52 0-1.04.2-1.43.59L10.3 9.45l-7.72 7.72c-.78.78-.78 2.05 0 2.83L4 21.41c.39.39.9.59 1.41.59.51 0 1.02-.2 1.41-.59l7.78-7.78 2.81-2.81c.8-.78.8-2.07 0-2.86zM5.41 20L4 18.59l7.72-7.72 1.47 1.35L5.41 20z\"/>\n",
              "  </svg>\n",
              "      </button>\n",
              "      \n",
              "  <style>\n",
              "    .colab-df-container {\n",
              "      display:flex;\n",
              "      flex-wrap:wrap;\n",
              "      gap: 12px;\n",
              "    }\n",
              "\n",
              "    .colab-df-convert {\n",
              "      background-color: #E8F0FE;\n",
              "      border: none;\n",
              "      border-radius: 50%;\n",
              "      cursor: pointer;\n",
              "      display: none;\n",
              "      fill: #1967D2;\n",
              "      height: 32px;\n",
              "      padding: 0 0 0 0;\n",
              "      width: 32px;\n",
              "    }\n",
              "\n",
              "    .colab-df-convert:hover {\n",
              "      background-color: #E2EBFA;\n",
              "      box-shadow: 0px 1px 2px rgba(60, 64, 67, 0.3), 0px 1px 3px 1px rgba(60, 64, 67, 0.15);\n",
              "      fill: #174EA6;\n",
              "    }\n",
              "\n",
              "    [theme=dark] .colab-df-convert {\n",
              "      background-color: #3B4455;\n",
              "      fill: #D2E3FC;\n",
              "    }\n",
              "\n",
              "    [theme=dark] .colab-df-convert:hover {\n",
              "      background-color: #434B5C;\n",
              "      box-shadow: 0px 1px 3px 1px rgba(0, 0, 0, 0.15);\n",
              "      filter: drop-shadow(0px 1px 2px rgba(0, 0, 0, 0.3));\n",
              "      fill: #FFFFFF;\n",
              "    }\n",
              "  </style>\n",
              "\n",
              "      <script>\n",
              "        const buttonEl =\n",
              "          document.querySelector('#df-28c099a7-f7f2-4391-856e-81ae1218bfc7 button.colab-df-convert');\n",
              "        buttonEl.style.display =\n",
              "          google.colab.kernel.accessAllowed ? 'block' : 'none';\n",
              "\n",
              "        async function convertToInteractive(key) {\n",
              "          const element = document.querySelector('#df-28c099a7-f7f2-4391-856e-81ae1218bfc7');\n",
              "          const dataTable =\n",
              "            await google.colab.kernel.invokeFunction('convertToInteractive',\n",
              "                                                     [key], {});\n",
              "          if (!dataTable) return;\n",
              "\n",
              "          const docLinkHtml = 'Like what you see? Visit the ' +\n",
              "            '<a target=\"_blank\" href=https://colab.research.google.com/notebooks/data_table.ipynb>data table notebook</a>'\n",
              "            + ' to learn more about interactive tables.';\n",
              "          element.innerHTML = '';\n",
              "          dataTable['output_type'] = 'display_data';\n",
              "          await google.colab.output.renderOutput(dataTable, element);\n",
              "          const docLink = document.createElement('div');\n",
              "          docLink.innerHTML = docLinkHtml;\n",
              "          element.appendChild(docLink);\n",
              "        }\n",
              "      </script>\n",
              "    </div>\n",
              "  </div>\n",
              "  "
            ]
          },
          "metadata": {},
          "execution_count": 4
        }
      ],
      "source": [
        "df[['profile_gender', 'salary_monthly_NETO']].groupby('profile_gender').describe()"
      ]
    },
    {
      "cell_type": "code",
      "execution_count": null,
      "metadata": {
        "colab": {
          "base_uri": "https://localhost:8080/",
          "height": 206
        },
        "id": "pycKJ5jWkShW",
        "outputId": "0a471c40-df79-4028-946f-8dd64982c8a3"
      },
      "outputs": [
        {
          "output_type": "execute_result",
          "data": {
            "text/plain": [
              "               salary_monthly_NETO                                         \\\n",
              "                             count           mean            std      min   \n",
              "profile_gender                                                              \n",
              "Hombre                      4815.0  101481.624343  102215.304684   1100.0   \n",
              "Mujer                        863.0   77328.913778   55082.760570   2000.0   \n",
              "Otros                         28.0  105660.714286   87235.710235  34000.0   \n",
              "\n",
              "                                                       \n",
              "                    25%      50%       75%        max  \n",
              "profile_gender                                         \n",
              "Hombre          55000.0  80000.0  110000.0  2080000.0  \n",
              "Mujer           47850.0  67200.0   93000.0   800000.0  \n",
              "Otros           43750.0  78900.0  122750.0   380000.0  "
            ],
            "text/html": [
              "\n",
              "  <div id=\"df-7129c5a8-caf9-445f-86f9-b9337bc2ea54\">\n",
              "    <div class=\"colab-df-container\">\n",
              "      <div>\n",
              "<style scoped>\n",
              "    .dataframe tbody tr th:only-of-type {\n",
              "        vertical-align: middle;\n",
              "    }\n",
              "\n",
              "    .dataframe tbody tr th {\n",
              "        vertical-align: top;\n",
              "    }\n",
              "\n",
              "    .dataframe thead tr th {\n",
              "        text-align: left;\n",
              "    }\n",
              "\n",
              "    .dataframe thead tr:last-of-type th {\n",
              "        text-align: right;\n",
              "    }\n",
              "</style>\n",
              "<table border=\"1\" class=\"dataframe\">\n",
              "  <thead>\n",
              "    <tr>\n",
              "      <th></th>\n",
              "      <th colspan=\"8\" halign=\"left\">salary_monthly_NETO</th>\n",
              "    </tr>\n",
              "    <tr>\n",
              "      <th></th>\n",
              "      <th>count</th>\n",
              "      <th>mean</th>\n",
              "      <th>std</th>\n",
              "      <th>min</th>\n",
              "      <th>25%</th>\n",
              "      <th>50%</th>\n",
              "      <th>75%</th>\n",
              "      <th>max</th>\n",
              "    </tr>\n",
              "    <tr>\n",
              "      <th>profile_gender</th>\n",
              "      <th></th>\n",
              "      <th></th>\n",
              "      <th></th>\n",
              "      <th></th>\n",
              "      <th></th>\n",
              "      <th></th>\n",
              "      <th></th>\n",
              "      <th></th>\n",
              "    </tr>\n",
              "  </thead>\n",
              "  <tbody>\n",
              "    <tr>\n",
              "      <th>Hombre</th>\n",
              "      <td>4815.0</td>\n",
              "      <td>101481.624343</td>\n",
              "      <td>102215.304684</td>\n",
              "      <td>1100.0</td>\n",
              "      <td>55000.0</td>\n",
              "      <td>80000.0</td>\n",
              "      <td>110000.0</td>\n",
              "      <td>2080000.0</td>\n",
              "    </tr>\n",
              "    <tr>\n",
              "      <th>Mujer</th>\n",
              "      <td>863.0</td>\n",
              "      <td>77328.913778</td>\n",
              "      <td>55082.760570</td>\n",
              "      <td>2000.0</td>\n",
              "      <td>47850.0</td>\n",
              "      <td>67200.0</td>\n",
              "      <td>93000.0</td>\n",
              "      <td>800000.0</td>\n",
              "    </tr>\n",
              "    <tr>\n",
              "      <th>Otros</th>\n",
              "      <td>28.0</td>\n",
              "      <td>105660.714286</td>\n",
              "      <td>87235.710235</td>\n",
              "      <td>34000.0</td>\n",
              "      <td>43750.0</td>\n",
              "      <td>78900.0</td>\n",
              "      <td>122750.0</td>\n",
              "      <td>380000.0</td>\n",
              "    </tr>\n",
              "  </tbody>\n",
              "</table>\n",
              "</div>\n",
              "      <button class=\"colab-df-convert\" onclick=\"convertToInteractive('df-7129c5a8-caf9-445f-86f9-b9337bc2ea54')\"\n",
              "              title=\"Convert this dataframe to an interactive table.\"\n",
              "              style=\"display:none;\">\n",
              "        \n",
              "  <svg xmlns=\"http://www.w3.org/2000/svg\" height=\"24px\"viewBox=\"0 0 24 24\"\n",
              "       width=\"24px\">\n",
              "    <path d=\"M0 0h24v24H0V0z\" fill=\"none\"/>\n",
              "    <path d=\"M18.56 5.44l.94 2.06.94-2.06 2.06-.94-2.06-.94-.94-2.06-.94 2.06-2.06.94zm-11 1L8.5 8.5l.94-2.06 2.06-.94-2.06-.94L8.5 2.5l-.94 2.06-2.06.94zm10 10l.94 2.06.94-2.06 2.06-.94-2.06-.94-.94-2.06-.94 2.06-2.06.94z\"/><path d=\"M17.41 7.96l-1.37-1.37c-.4-.4-.92-.59-1.43-.59-.52 0-1.04.2-1.43.59L10.3 9.45l-7.72 7.72c-.78.78-.78 2.05 0 2.83L4 21.41c.39.39.9.59 1.41.59.51 0 1.02-.2 1.41-.59l7.78-7.78 2.81-2.81c.8-.78.8-2.07 0-2.86zM5.41 20L4 18.59l7.72-7.72 1.47 1.35L5.41 20z\"/>\n",
              "  </svg>\n",
              "      </button>\n",
              "      \n",
              "  <style>\n",
              "    .colab-df-container {\n",
              "      display:flex;\n",
              "      flex-wrap:wrap;\n",
              "      gap: 12px;\n",
              "    }\n",
              "\n",
              "    .colab-df-convert {\n",
              "      background-color: #E8F0FE;\n",
              "      border: none;\n",
              "      border-radius: 50%;\n",
              "      cursor: pointer;\n",
              "      display: none;\n",
              "      fill: #1967D2;\n",
              "      height: 32px;\n",
              "      padding: 0 0 0 0;\n",
              "      width: 32px;\n",
              "    }\n",
              "\n",
              "    .colab-df-convert:hover {\n",
              "      background-color: #E2EBFA;\n",
              "      box-shadow: 0px 1px 2px rgba(60, 64, 67, 0.3), 0px 1px 3px 1px rgba(60, 64, 67, 0.15);\n",
              "      fill: #174EA6;\n",
              "    }\n",
              "\n",
              "    [theme=dark] .colab-df-convert {\n",
              "      background-color: #3B4455;\n",
              "      fill: #D2E3FC;\n",
              "    }\n",
              "\n",
              "    [theme=dark] .colab-df-convert:hover {\n",
              "      background-color: #434B5C;\n",
              "      box-shadow: 0px 1px 3px 1px rgba(0, 0, 0, 0.15);\n",
              "      filter: drop-shadow(0px 1px 2px rgba(0, 0, 0, 0.3));\n",
              "      fill: #FFFFFF;\n",
              "    }\n",
              "  </style>\n",
              "\n",
              "      <script>\n",
              "        const buttonEl =\n",
              "          document.querySelector('#df-7129c5a8-caf9-445f-86f9-b9337bc2ea54 button.colab-df-convert');\n",
              "        buttonEl.style.display =\n",
              "          google.colab.kernel.accessAllowed ? 'block' : 'none';\n",
              "\n",
              "        async function convertToInteractive(key) {\n",
              "          const element = document.querySelector('#df-7129c5a8-caf9-445f-86f9-b9337bc2ea54');\n",
              "          const dataTable =\n",
              "            await google.colab.kernel.invokeFunction('convertToInteractive',\n",
              "                                                     [key], {});\n",
              "          if (!dataTable) return;\n",
              "\n",
              "          const docLinkHtml = 'Like what you see? Visit the ' +\n",
              "            '<a target=\"_blank\" href=https://colab.research.google.com/notebooks/data_table.ipynb>data table notebook</a>'\n",
              "            + ' to learn more about interactive tables.';\n",
              "          element.innerHTML = '';\n",
              "          dataTable['output_type'] = 'display_data';\n",
              "          await google.colab.output.renderOutput(dataTable, element);\n",
              "          const docLink = document.createElement('div');\n",
              "          docLink.innerHTML = docLinkHtml;\n",
              "          element.appendChild(docLink);\n",
              "        }\n",
              "      </script>\n",
              "    </div>\n",
              "  </div>\n",
              "  "
            ]
          },
          "metadata": {},
          "execution_count": 5
        }
      ],
      "source": [
        "df[df.salary_monthly_NETO > 1000]\\\n",
        "  [['profile_gender', 'salary_monthly_NETO']].groupby('profile_gender').describe()"
      ]
    },
    {
      "cell_type": "code",
      "execution_count": null,
      "metadata": {
        "id": "uZ1GxkLylHx0"
      },
      "outputs": [],
      "source": [
        "alpha = 0.05"
      ]
    },
    {
      "cell_type": "code",
      "execution_count": null,
      "metadata": {
        "id": "OfzFpDO-lYxk"
      },
      "outputs": [],
      "source": [
        "is_man = df.profile_gender == 'Hombre'\n",
        "\n",
        "groupA = df[(df.salary_monthly_NETO > 1000) & is_man].salary_monthly_NETO\n",
        "groupB = df[(df.salary_monthly_NETO > 1000) & ~is_man].salary_monthly_NETO"
      ]
    },
    {
      "cell_type": "markdown",
      "metadata": {
        "id": "co_0M_ojtmUh"
      },
      "source": [
        "## Ejercicio 1: Estimación\n",
        "\n",
        "**Consigna:**  Calcular una estimación puntual y un intervalo de confianza de nivel (1-alpha) para la resta entre la media del salario Neto para Hombres menos la media del salario Neto para otros géneros(diferencia de las medias entre el grupoA y grupoB). \n",
        "¿Cómo se relaciona este intervalo de confianza con el test de hipótesis?"
      ]
    },
    {
      "cell_type": "markdown",
      "metadata": {
        "id": "6pPpLCA6-0yH"
      },
      "source": [
        "1) Cálculamos la estimación puntual para la resta de medias del salario Neto para Hombres menos la media del salario Neto para otros generos. \n",
        "Primero gráficamos las distribuciones de ambas poblaciones. \n"
      ]
    },
    {
      "cell_type": "code",
      "execution_count": null,
      "metadata": {
        "colab": {
          "base_uri": "https://localhost:8080/",
          "height": 751
        },
        "id": "AW7sHnJcpNjn",
        "outputId": "00ead4cd-8b51-4ff2-c9d4-2b48ae2a62cd"
      },
      "outputs": [
        {
          "output_type": "execute_result",
          "data": {
            "text/plain": [
              "(0.0, 500000.0)"
            ]
          },
          "metadata": {},
          "execution_count": 10
        },
        {
          "output_type": "display_data",
          "data": {
            "text/plain": [
              "<Figure size 720x360 with 1 Axes>"
            ],
            "image/png": "[encoded data removed]"
          },
          "metadata": {
            "needs_background": "light"
          }
        },
        {
          "output_type": "display_data",
          "data": {
            "text/plain": [
              "<Figure size 720x360 with 1 Axes>"
            ],
            "image/png": "[encoded data removed]"
          },
          "metadata": {
            "needs_background": "light"
          }
        }
      ],
      "source": [
        "plt.figure(figsize=(10, 5))\n",
        "seaborn.histplot(data=groupA, kde=True)\n",
        "plt.ticklabel_format(style='plain', axis='x')\n",
        "plt.xlim([0,500000])\n",
        "plt.title(\"Hombres\")\n",
        "plt.figure(figsize=(10, 5))\n",
        "seaborn.histplot(data=groupB, kde=True)\n",
        "plt.ticklabel_format(style='plain', axis='x')\n",
        "plt.title(\"Mujeres y Otros generos\")\n",
        "plt.xlim([0,500000])"
      ]
    },
    {
      "cell_type": "code",
      "source": [
        ""
      ],
      "metadata": {
        "id": "WFY69WCU4cA4"
      },
      "execution_count": null,
      "outputs": []
    },
    {
      "cell_type": "code",
      "source": [
        "#distribuciones:\n",
        "plt.figure(figsize=(12, 6))\n",
        "seaborn.histplot(data=groupA.reset_index(), x='salary_monthly_NETO', kde=True, stat=\"density\", label = \"Varones\", color=\"red\")\n",
        "seaborn.histplot(data=groupB.reset_index(), x='salary_monthly_NETO', kde=True, stat=\"density\", label = \"Mujeres y otres\", color=\"green\") #,alpha=0.2)\n",
        "plt.axvline(groupA.mean(), color='red',\n",
        "            linestyle='--', label='Media Varones: '+str(int(groupA.mean())))\n",
        "plt.axvline(groupB.mean(), color='green',\n",
        "            linestyle='-.', label='Media Mujeres y otres: '+str(int(groupB.mean())))\n",
        "#plt.axvline(groupA.median(), color='indigo',\n",
        "#            linestyle='-.', label='Mediana: '+str(int(groupA.median())))   #orangered\n",
        "plt.ticklabel_format(style='plain', axis='x')\n",
        "plt.xlim([0,1000000])\n",
        "plt.legend();"
      ],
      "metadata": {
        "colab": {
          "base_uri": "https://localhost:8080/",
          "height": 427
        },
        "id": "uir-ZVQWCxwi",
        "outputId": "fd992338-0a8e-46aa-81ce-be7083f6c9d4"
      },
      "execution_count": null,
      "outputs": [
        {
          "output_type": "display_data",
          "data": {
            "text/plain": [
              "<Figure size 864x432 with 1 Axes>"
            ],
            "image/png": "[encoded data removed]"
          },
          "metadata": {
            "needs_background": "light"
          }
        }
      ]
    },
    {
      "cell_type": "markdown",
      "metadata": {
        "id": "WbP3yLur4PWg"
      },
      "source": [
        "Observamos que ambas poblaciones se asemejan a una distribución de probabilidad Normal. Ahora vamos a calcular la media y la desviación estandar de cada población."
      ]
    },
    {
      "cell_type": "code",
      "execution_count": null,
      "metadata": {
        "colab": {
          "base_uri": "https://localhost:8080/"
        },
        "id": "Lqt-LkF-vLz_",
        "outputId": "0c2428c2-0644-4b6f-f55b-abcd5df25707"
      },
      "outputs": [
        {
          "output_type": "stream",
          "name": "stdout",
          "text": [
            "Media de la población A:  101481.62434267918\n",
            "Media de la población B:  78219.25094276095\n"
          ]
        }
      ],
      "source": [
        "print(\"Media de la población A: \",groupA.mean())\n",
        "print(\"Media de la población B: \", groupB.mean())\n"
      ]
    },
    {
      "cell_type": "code",
      "source": [
        "print(\"Diferencia de medias: \",groupA.mean()-groupB.mean())"
      ],
      "metadata": {
        "colab": {
          "base_uri": "https://localhost:8080/"
        },
        "id": "yce4kVWwTC4M",
        "outputId": "77c849e9-26aa-4646-95b6-fdbeef3da650"
      },
      "execution_count": null,
      "outputs": [
        {
          "output_type": "stream",
          "name": "stdout",
          "text": [
            "Diferencia de medias:  23262.37339991823\n"
          ]
        }
      ]
    },
    {
      "cell_type": "code",
      "source": [
        "std_A=groupA.std() # Desviación estandar del grupo A\n",
        "#var_A=pow(std_A,2) #Varianza del grupo A\n",
        "print(\"Desviación estandar del grupo A: \",std_A)\n",
        "std_B=groupB.std() # Desviación estandar del grupo B\n",
        "#var_B=pow(std_B,2) #Varianza del grupo B\n",
        "print(\"Desviación estandar del grupo B: \",std_B)"
      ],
      "metadata": {
        "colab": {
          "base_uri": "https://localhost:8080/"
        },
        "id": "r0_G0etLcCQi",
        "outputId": "2f769b56-f62e-4673-ac92-7500baee677b"
      },
      "execution_count": null,
      "outputs": [
        {
          "output_type": "stream",
          "name": "stdout",
          "text": [
            "Desviación estandar del grupo A:  102215.30468444877\n",
            "Desviación estandar del grupo B:  56515.32732350074\n"
          ]
        }
      ]
    },
    {
      "cell_type": "markdown",
      "source": [
        "\n",
        "El estadístico usado como estimador puntual de la diferencia de medias $\\mu_A-\\mu_B$, será $x_A − x_B$, que es un estimador suficiente.\n",
        "Como primer resultado tenemos que la estimación puntual de la diferencia de las medias es de 23262. Es decir, los varones ganarían un 29.7% más que las mujeres y otros géneros.\n",
        "\n",
        "Ahora vamos a calcular el intervalo de confianza para la diferencia de las medias de ambos grupos. Como vemos aqui arriba, las desviaciones estandar son diferentes, por lo tanto,  utilizaremos el método de Welch para el calculo del intervalo de confianza.\n"
      ],
      "metadata": {
        "id": "ocROM9T3c2P-"
      }
    },
    {
      "cell_type": "code",
      "execution_count": null,
      "metadata": {
        "id": "XDwE_wiMYa4-"
      },
      "outputs": [],
      "source": [
        "n1 = len(groupA)\n",
        "n2 = len(groupB)\n",
        "#muestra_A=groupA.sample(n1,replace=False) # muestra de tamaño n1\n",
        "#muestra_B=groupB.sample(n2, replace=False) # muestra de tamaño n2\n",
        "muestra_A=groupA\n",
        "muestra_B=groupB"
      ]
    },
    {
      "cell_type": "code",
      "execution_count": null,
      "metadata": {
        "id": "iQCR8TZmZCBq"
      },
      "outputs": [],
      "source": [
        "#print(\"Muestra de la poblacion de hombres\")\n",
        "#print(muestra_A)\n"
      ]
    },
    {
      "cell_type": "code",
      "execution_count": null,
      "metadata": {
        "id": "IW_swj5zs8GO"
      },
      "outputs": [],
      "source": [
        "#print(\"Muestra de la poblacion de mujeres y otros géneros\")\n",
        "#print(muestra_B)\n"
      ]
    },
    {
      "cell_type": "markdown",
      "metadata": {
        "id": "PkTsrRHk0qnR"
      },
      "source": [
        "Procedemos a calcular las métricas estadísticas de ambas muestras (media, desviación estandar y varianza)"
      ]
    },
    {
      "cell_type": "code",
      "execution_count": null,
      "metadata": {
        "colab": {
          "base_uri": "https://localhost:8080/"
        },
        "id": "1H2yFQK1YlgH",
        "outputId": "e17fd1f9-874e-4655-ffe9-1563382a64b0"
      },
      "outputs": [
        {
          "output_type": "stream",
          "name": "stdout",
          "text": [
            "Media de la muesta A:  101481.62434267918\n"
          ]
        }
      ],
      "source": [
        "media_muestra_A=muestra_A.mean() #media de la mustra A (hombres)\n",
        "print(\"Media de la muesta A: \",media_muestra_A)"
      ]
    },
    {
      "cell_type": "code",
      "execution_count": null,
      "metadata": {
        "colab": {
          "base_uri": "https://localhost:8080/"
        },
        "id": "u3c5iDR8sy7Y",
        "outputId": "ea011c2a-d987-41ce-8af6-c94fa97afe52"
      },
      "outputs": [
        {
          "output_type": "stream",
          "name": "stdout",
          "text": [
            "media de la muestra B:  78219.25094276095\n"
          ]
        }
      ],
      "source": [
        "media_muestra_B=muestra_B.mean() #media de la muestra B (mujeres y otro géneros)\n",
        "print(\"media de la muestra B: \",media_muestra_B)"
      ]
    },
    {
      "cell_type": "code",
      "execution_count": null,
      "metadata": {
        "colab": {
          "base_uri": "https://localhost:8080/"
        },
        "id": "pSLwk63DZKqy",
        "outputId": "ddc614bf-2c25-4e1b-f9df-bca76f1b45ed"
      },
      "outputs": [
        {
          "output_type": "stream",
          "name": "stdout",
          "text": [
            "Desviación estandar de la muestra A:  102215.30468444877\n",
            "Varianza de la muesta A:  10447968511.734694\n"
          ]
        }
      ],
      "source": [
        "std_A=muestra_A.std() # Desviación estandar de la muestra A\n",
        "print(\"Desviación estandar de la muestra A: \",std_A)\n",
        "var_A=pow(std_A,2) #Varianza de la muesta A\n",
        "print(\"Varianza de la muesta A: \",var_A)"
      ]
    },
    {
      "cell_type": "code",
      "execution_count": null,
      "metadata": {
        "colab": {
          "base_uri": "https://localhost:8080/"
        },
        "id": "y5tzXsBMl3QS",
        "outputId": "bd4e7d9a-0edc-4d1a-a31a-8b7fc8665a7e"
      },
      "outputs": [
        {
          "output_type": "stream",
          "name": "stdout",
          "text": [
            "Desviación estandar de la muestra B:  56515.32732350074\n",
            "Varianza de la muestra B 3193982222.482429\n"
          ]
        }
      ],
      "source": [
        "std_B=muestra_B.std()\n",
        "print(\"Desviación estandar de la muestra B: \",std_B)\n",
        "var_B=pow(std_B,2)\n",
        "print(\"Varianza de la muestra B\",var_B)"
      ]
    },
    {
      "cell_type": "markdown",
      "metadata": {
        "id": "VLve8gzEmI-v"
      },
      "source": [
        "\n",
        "\n",
        "Usamos para el valor crítico la distribucion t de Student ($t_ᵅ)$ con $\\nu$ grados de libertad, donde $\\nu$ viene dado por la fórmula de Welch."
      ]
    },
    {
      "cell_type": "markdown",
      "metadata": {
        "id": "BPJHkRol3nfe"
      },
      "source": [
        "Si las varianzas poblacionales no pueden suponerse iguales los límites del intervalo de confianza son: \n",
        "![Screenshot_3.png](data:image/png;base64,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)"
      ]
    },
    {
      "cell_type": "markdown",
      "metadata": {
        "id": "nZ3VLuRzogfC"
      },
      "source": [
        "Calculamos los grados de libertad DF:\n",
        "\n",
        "![Screenshot_4.png](data:image/png;base64,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)\n"
      ]
    },
    {
      "cell_type": "code",
      "execution_count": null,
      "metadata": {
        "colab": {
          "base_uri": "https://localhost:8080/"
        },
        "id": "OAVro5XjolLE",
        "outputId": "668ddf52-56d8-4290-fb23-279925bde5b1"
      },
      "outputs": [
        {
          "output_type": "stream",
          "name": "stdout",
          "text": [
            "Grados de libertad:  2150.339203756446\n"
          ]
        }
      ],
      "source": [
        "DF=(pow((pow(std_A,2)/n1)+(pow(std_B,2)/n2),2))/((pow((pow(std_A,2)/n1),2)/n1-1)+(pow((pow(std_B,2)/n2),2)/n2-1))\n",
        "print(\"Grados de libertad: \",DF)"
      ]
    },
    {
      "cell_type": "markdown",
      "source": [
        "A continuación obtenemos el valor crítico para alpha=0.05 y los grados de libertad calculado en el código anterior"
      ],
      "metadata": {
        "id": "YqWOn7SS5Bku"
      }
    },
    {
      "cell_type": "code",
      "execution_count": null,
      "metadata": {
        "colab": {
          "base_uri": "https://localhost:8080/"
        },
        "id": "t_K-1olvx8GU",
        "outputId": "028e4c41-6024-4f2a-9072-ea381d714907"
      },
      "outputs": [
        {
          "output_type": "execute_result",
          "data": {
            "text/plain": [
              "1.9610679773649038"
            ]
          },
          "metadata": {},
          "execution_count": 22
        }
      ],
      "source": [
        "t0975=scipy.stats.t.ppf(0.975, int(DF))\n",
        "t0975"
      ]
    },
    {
      "cell_type": "markdown",
      "metadata": {
        "id": "0e-SZO7C0GPt"
      },
      "source": [
        "**Cálculo del límite inferior del intervalo de confianza**"
      ]
    },
    {
      "cell_type": "code",
      "execution_count": null,
      "metadata": {
        "colab": {
          "base_uri": "https://localhost:8080/"
        },
        "id": "6hOEFlVI9Oy7",
        "outputId": "29868aad-ec5a-44fb-d3f8-85d6ea6b21c1"
      },
      "outputs": [
        {
          "output_type": "stream",
          "name": "stdout",
          "text": [
            "Límite inferior:  18558.019\n"
          ]
        }
      ],
      "source": [
        "lim_inf=(media_muestra_A-media_muestra_B)-(t0975*(numpy.sqrt((var_A/n1)+(var_B/n2))))\n",
        "print(\"Límite inferior: \",round(lim_inf,3))"
      ]
    },
    {
      "cell_type": "markdown",
      "metadata": {
        "id": "MACXfK9K0OpS"
      },
      "source": [
        "**Cálculo del límite superior del intervalo de confianza**"
      ]
    },
    {
      "cell_type": "code",
      "execution_count": null,
      "metadata": {
        "colab": {
          "base_uri": "https://localhost:8080/"
        },
        "id": "WcTdq91U9lSG",
        "outputId": "ec45e2e3-3e95-4a79-b2c8-c2dd9d506956"
      },
      "outputs": [
        {
          "output_type": "stream",
          "name": "stdout",
          "text": [
            "Límite superior:  27966.728\n"
          ]
        }
      ],
      "source": [
        "lim_sup=(media_muestra_A-media_muestra_B)+(t0975*(numpy.sqrt((var_A/n1)+(var_B/n2))))\n",
        "print(\"Límite superior: \",round(lim_sup,3))"
      ]
    },
    {
      "cell_type": "markdown",
      "metadata": {
        "id": "E_6Txo1p0uhY"
      },
      "source": [
        "**Intervalo de confianza**"
      ]
    },
    {
      "cell_type": "code",
      "execution_count": null,
      "metadata": {
        "colab": {
          "base_uri": "https://localhost:8080/"
        },
        "id": "DRqiqfO8HWnL",
        "outputId": "5baf88d8-fd03-4869-cebc-4009021fd46b"
      },
      "outputs": [
        {
          "output_type": "stream",
          "name": "stdout",
          "text": [
            "18558.019 <=μA−μB<= 27966.728\n"
          ]
        }
      ],
      "source": [
        "print(round(lim_inf,3),\"<=μA−μB<=\",round(lim_sup,3))\n"
      ]
    },
    {
      "cell_type": "markdown",
      "metadata": {
        "id": "I0QdcArNJjfB"
      },
      "source": [
        "Obtenemos que, con un nivel de confianza del 95% la resta de medias poblacional pertenece al intervalo [18558, 27966]. Por lo que vemos, es poco probable que la diferencia de medias sea cero. Esto significa que hay una diferencia significativa entre el sueldo promedio de los varones y aquel de las mujeres y otros géneros, dando el primero más alto que el segundo.\n",
        "\n",
        "**¿Cómo se relaciona este intervalo de confianza con el test de hipótesis?** \n",
        "\n",
        "\n",
        "Un test de hipotesis cuya Ho sea que la diferencia de las medias es cero, el caso de que el intervalo de confianza contenga el valor \"cero\",  siginificaria que las medias poblacionales son iguales, aceptando la hipotesis nula. El caso contrario, si el intervalo no continene al valor \"cero\" las medias son diferentes.\n",
        "\n",
        "El resultado obtenido nos muestra un intervalo de confianza que no contiene al \"cero\". Es decir, que las medias poblacionales no son iguales.\n"
      ]
    },
    {
      "cell_type": "markdown",
      "metadata": {
        "id": "IFi2T7Y6nM92"
      },
      "source": [
        "## Ejercicio 2: Test de hipótesis\n"
      ]
    },
    {
      "cell_type": "markdown",
      "metadata": {
        "id": "Rzxe8UYU6EfJ"
      },
      "source": [
        "\n",
        "### 2.1 Formalización\n",
        "\n",
        "Describir formalmente los distintos compenentes de un test de hipótesis para comprobar si la distribución de los salarios es distinta entre los grupos A y B.\n",
        "\n",
        "**Hipótesis Nula**\n",
        "\n",
        "$H_0=...$\n",
        "\n",
        "**Estadístico (Pivote)**\n",
        "  * Identificar el estadístico\n",
        "  * Escribir qué distribución tiene bajo $H_0$\n"
      ]
    },
    {
      "cell_type": "markdown",
      "source": [
        "Para el test de hipótesis, planteamos como hipótesis nula que las medias de los grupos A y B son iguales. Y como hipótesis alternativa que dichas medias son distintas."
      ],
      "metadata": {
        "id": "Yhgv2KMpFhbu"
      }
    },
    {
      "cell_type": "markdown",
      "source": [
        "$H_0$: $\\mu_A$=$\\mu_B$  ó   $\\mu_A$-$\\mu_B$=0\n",
        "\n",
        "\n",
        "$H_a$: $\\mu_A$≠$\\mu_B$ ó  $\\mu_A$-$\\mu_B$≠0\n",
        "\n"
      ],
      "metadata": {
        "id": "t-tuzXbrTTue"
      }
    },
    {
      "cell_type": "markdown",
      "metadata": {
        "id": "H3oox1xNAi4L"
      },
      "source": [
        "El estadistico (pivote) asociado será la variable T definida como: \n",
        "\n",
        "![Screenshot_5.png](data:image/png;base64,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)\n",
        "\n",
        "\n",
        "\n",
        "que tiene asociado una distribución t de student. En este caso $\\mu_1 - \\mu_2 = 0$ dado que la hipótesis nula que se formuló anteriormente indica que las medias de ambas poblaciones son iguales. $\\bar{x}_1 -\\bar{x}_2$ es la diferencia de las medias muestrales. También se observa que estan involucrados en el cálculo del estimador el tamaño de las muestras y sus respectivas varianzas. "
      ]
    },
    {
      "cell_type": "markdown",
      "source": [
        "Calculamos el estadistico T "
      ],
      "metadata": {
        "id": "NXVJrZyT0ajs"
      }
    },
    {
      "cell_type": "code",
      "execution_count": null,
      "metadata": {
        "colab": {
          "base_uri": "https://localhost:8080/"
        },
        "id": "V4QZQ_66GMDl",
        "outputId": "a7479719-44bb-48eb-f3fe-65002b08eed5"
      },
      "outputs": [
        {
          "output_type": "stream",
          "name": "stdout",
          "text": [
            "Estadístico T:  9.697205976350695\n"
          ]
        }
      ],
      "source": [
        "T=(media_muestra_A-media_muestra_B)/(numpy.sqrt((var_A/n1)+(var_B/n2)))\n",
        "print(\"Estadístico T: \",T)"
      ]
    },
    {
      "cell_type": "markdown",
      "metadata": {
        "id": "3Ip_5YdenC8u"
      },
      "source": [
        "### 2.2 P-valor\n",
        "\n",
        "1. Calcule el p-valor y decida si rechazar o no la hipótesis nula.\n",
        "2. Interprete el resultado.\n",
        "\n",
        "Links útiles:\n",
        "* [Test de hipótesis usando scipy](https://docs.scipy.org/doc/scipy/reference/generated/scipy.stats.ttest_ind.html)\n",
        "* [Test de Welch](http://daniellakens.blogspot.com/2015/01/always-use-welchs-t-test-instead-of.html)"
      ]
    },
    {
      "cell_type": "markdown",
      "source": [
        "Calculamos el p-valor"
      ],
      "metadata": {
        "id": "RmUSqdZx6tw7"
      }
    },
    {
      "cell_type": "code",
      "source": [
        "scipy.stats.ttest_ind(muestra_A, muestra_B, equal_var=False)\n"
      ],
      "metadata": {
        "colab": {
          "base_uri": "https://localhost:8080/"
        },
        "id": "iybMVDPwTlZ-",
        "outputId": "40f314a7-90ce-4f18-c140-bf673f030e2d"
      },
      "execution_count": null,
      "outputs": [
        {
          "output_type": "execute_result",
          "data": {
            "text/plain": [
              "Ttest_indResult(statistic=9.697205976350673, pvalue=8.605197322133209e-22)"
            ]
          },
          "metadata": {},
          "execution_count": 27
        }
      ]
    },
    {
      "cell_type": "markdown",
      "source": [
        "El p-valor nos muestra la probabilidad de que el valor estadístico T calculado con nuestras muestras sea posible dado que la hipótesis nula es cierta. Un p-valor alto no permite rechazar la Hipotesis nula Ho, mientras que valores bajos de p (menores que alpha) no serían compatible con la Ho, llevando a rechazarla.\n",
        "En nuestro caso particular, se obtuvo un p-valor extremadamente bajo y menor al nivel de significancia (0.05). Con esto, estamos en condiciones de rechazar rotundamente la Ho, lo que significa que la distribución de los salarios es distinta entre los grupos A y B."
      ],
      "metadata": {
        "id": "zknzdUUV7jjC"
      }
    },
    {
      "cell_type": "markdown",
      "metadata": {
        "id": "8VxiQr5YrQYR"
      },
      "source": [
        "### [Opcional] 2.3 Potencia del test\n",
        "\n",
        "Nuestra muestra, ¿era lo suficientemente grande para detectar si existe o no una diferencia entre los grupos?\n",
        "\n",
        "1. Utilice la función `tt_ind_solve_power` para calcular el tamaño necesario de la muestra para un poder estadístico de 0.8, 0.9 y 0.95, asumiendo una significancia estadística de 0.05.\n",
        "2. ¿Cómo intepretan el poder estadístico de un test? Dado su conocimiento de dominio sobre los datos, ¿les parece que esta muestra es lo suficientemente grande para ser representativo de la tendencia general? ¿y para utilizarlo en un juicio penal contra una empresa XX por una causa de discriminación?\n",
        "\n",
        "[Documentación](https://www.statsmodels.org/stable/generated/statsmodels.stats.power.tt_ind_solve_power.html)\n",
        "\n",
        "NOTA: este análisis debería hacerse ANTES de recolectar los datos."
      ]
    },
    {
      "cell_type": "code",
      "execution_count": null,
      "metadata": {
        "id": "_IiqGfo4t6Db",
        "colab": {
          "base_uri": "https://localhost:8080/"
        },
        "outputId": "9ac60d16-4447-48d1-b4f2-08ccf2f5d6cf"
      },
      "outputs": [
        {
          "output_type": "stream",
          "name": "stderr",
          "text": [
            "/usr/local/lib/python3.7/dist-packages/statsmodels/tools/_testing.py:19: FutureWarning: pandas.util.testing is deprecated. Use the functions in the public API at pandas.testing instead.\n",
            "  import pandas.util.testing as tm\n"
          ]
        }
      ],
      "source": [
        "from statsmodels.stats.power import tt_ind_solve_power"
      ]
    },
    {
      "cell_type": "code",
      "execution_count": null,
      "metadata": {
        "id": "LUQ7MA2Apj9x"
      },
      "outputs": [],
      "source": [
        "effect_size = (groupA.mean() - groupB.mean()) / groupB.std()\n",
        "# nobs1=None  - What we want to know\n",
        "alpha = 0.05\n",
        "ratio = len(groupB) / len(groupA)\n",
        "power=0.95"
      ]
    },
    {
      "cell_type": "code",
      "execution_count": null,
      "metadata": {
        "id": "cvHcpY-3ty8Q",
        "colab": {
          "base_uri": "https://localhost:8080/"
        },
        "outputId": "eebe13cd-2c9a-460f-b81f-346c142e358c"
      },
      "outputs": [
        {
          "output_type": "execute_result",
          "data": {
            "text/plain": [
              "492.8117730249087"
            ]
          },
          "metadata": {},
          "execution_count": 30
        }
      ],
      "source": [
        "tt_ind_solve_power(effect_size=effect_size, alpha=alpha, power=power, ratio=ratio)"
      ]
    },
    {
      "cell_type": "markdown",
      "metadata": {
        "id": "useKMdPyMod5"
      },
      "source": [
        "## Ejercicio 3: Comunicación y visualización\n",
        "\n",
        "**Consigna:** Seleccionen un resultado que les parezca relevante a partir de alguno de los ejercicios del entregable. Diseñe e implemente una comunicación en base a este mensaje, en un archivo PDF.\n",
        "\n",
        "Elija las palabras y visualización más adecuada para que la comunicación sea entendible, efectiva y se dapte a UNA de las siguientes situaciones:\n",
        "\n",
        "1. Una sección en un artículo de difusión a presentar como parte de una organización sin fines de lucro.\n",
        "No más de 1 página A4 (o dos si los gráficos son muy grandes).\n",
        "  1. Ejemplo: Alguna de las secciones [Los ecosistemas de emprendimiento de América Latina y el Caribe frente al COVID-19: Impactos, necesidades y recomendaciones](https://publications.iadb.org/es/los-ecosistemas-de-emprendimiento-de-america-latina-y-el-caribe-frente-al-covid-19-impactos-necesidades-y-recomendaciones), por ejemplo la sección *2.2. Reacciones de los emprendedores*.\n",
        "  2. Ejemplo: Alguna de las secciones de [The state of gender pay gap in 2021](https://www.payscale.com/data/gender-pay-gap?tk=carousel-ps-rc-job)\n",
        "  3. Puntos clave: \n",
        "    1. Simpleza de los gráficos.\n",
        "    2. Comunicación en lenguaje simple a personas que no son necesariamente expertos de dominio.\n",
        "    2. Selección de UNA oración sobre la que se hace énfasis.\n",
        "    3. No es necesario que mencionen objetivos ni descripciones del conjunto de datos, se supone que eso ya estaría explicado en otras secciones del informe.\n",
        "\n",
        "2. Una publicación científica o reporte técnico interno. No más de una página A4:\n",
        "  2. Ejemplo: La sección de resultados de [IZA DP No. 12914: The Impact of a Minimum Wage Change on the Distribution of Wages and Household Income](https://www.iza.org/publications/dp/12914/the-impact-of-a-minimum-wage-change-on-the-distribution-of-wages-and-household-income).\n",
        "  2. Ejemplo: Alguna de las secciones de [Temporary reduction in daily global CO2 emissions during the COVID-19 forced confinement](https://www.nature.com/articles/s41558-020-0797-x)\n",
        "  3. Puntos clave:\n",
        "    3. Nivel de detalle técnico requerido. Es necesario justificar la validez del análisis.\n",
        "    4. La idea presentada puede ser más compleja. Pueden asumir que la audiencia tiene conocimiento técnico y va a analizar las visualizaciones en detalle. \n",
        "    5. Pueden presentar más en detalle las limitaciones del análisis (significancia estadística, etc.)\n",
        "    2. No es necesario que mencionen objetivos ni descripciones del conjunto de datos, se supone que eso ya estaría explicado en otras secciones del informe.\n",
        "\n",
        "3. Un tweet (o post de LinkedIn) para la cuenta de su empresa consultora que hace análisis de datos. El objetivo es promocionar un análisis de datos abiertos que van a incluir en su portfolio:\n",
        "  1. Ejemplo: [Comparación vacunas covid](https://twitter.com/infobeautiful/status/1381577746527236098?s=20)\n",
        "  2. Ejemplo: [Tweet del BID](https://twitter.com/el_BID/status/1388508583944507396?s=20). Lo valioso de este tweet es que usaron un único número para transmitir un mensaje. Puede ser algo así, o con un gráfico muy simple.\n",
        "  3. Ejemplo: [Cambio climático](https://twitter.com/UNFCCC/status/1387732156190011394?s=20) Es un muy buen ejemplo, excepto que el gráfico no se lee nada y hay que entrar a la publicación original.\n",
        "  3. Ejemplo: [¿Cuánto están los programadores en las empresas?](https://www.linkedin.com/posts/denis-rothman-0b034043_tech-career-work-activity-6793861923269054464-gS6y) (No verificamos la veracidad o seriedad de la fuente).\n",
        "  4. Puntos clave:\n",
        "    1. Su audiencia no va a mirar la visualización por más de unos segundos, y no tiene conocimiento técnico.\n",
        "  3. Tienen que incluir además una *breve* descripción de cómo obtuvieron los datos que están presentando, que no entraría en el tweet.\n"
      ]
    },
    {
      "cell_type": "markdown",
      "source": [
        "#Resolución ejercicio 3\n",
        "\n",
        "Para este ejercicio elegimos la pregunta si el sueldo promedio neto depende del genero, y lo comunicaremos usanto el tipo tweet.\n",
        "\n",
        "Para ello involucramos en nuestro análisis la variable de años de experiencia.\n",
        "\n",
        "Acá abajo vemos el código utilizado y entregamos en archivo aparte un pdf."
      ],
      "metadata": {
        "id": "85rLrsTQdtmb"
      }
    },
    {
      "cell_type": "code",
      "source": [
        "df_graph = df[[\"profile_years_experience\", \"profile_gender\", \"salary_monthly_NETO\"]]\n",
        "df_graph = df_graph[df_graph[\"profile_years_experience\"] < numpy.quantile(df_graph[\"profile_years_experience\"], 0.99)]\n",
        "df_graph = df_graph[df_graph[\"profile_years_experience\"] >= 0]\n",
        "# Genero BINS de años de experiencia\n",
        "def profile_groups(year):\n",
        "  if year > 0 and year <=3:\n",
        "    return '0 a 3'\n",
        "  elif year >3 and year <=6:\n",
        "    return '3 a 6'\n",
        "  elif year > 6:\n",
        "    return 'Mas de 6'\n",
        "  else:\n",
        "    return None\n",
        "df_graph[\"years_grouped\"] = df_graph[\"profile_years_experience\"].apply(profile_groups)\n",
        "#df_graph[\"years_grouped\"] = pd.cut(df_graph[\"profile_years_experience\"], 10)\n",
        "# Reemplazo a otros con mujer\n",
        "df_graph[\"profile_gender\"] = df_graph[\"profile_gender\"].replace(['Otros', \"Mujer\"], \"Mujeres y Otres\").replace(\"Hombre\", \"Varones\")\n",
        "\n",
        "df_graph = df_graph.rename(columns = {\"profile_gender\" : \"Género\", \n",
        "                                      \"years_grouped\" : \"Años de experiencia en el rubro\",\n",
        "                                      \"salary_monthly_NETO\" : \"Salario mensual neto promedio\"})"
      ],
      "metadata": {
        "id": "PL7DdRmGbeZ8"
      },
      "execution_count": null,
      "outputs": []
    },
    {
      "cell_type": "code",
      "source": [
        "grouped = df_graph.groupby([\"Género\"])[\"Salario mensual neto promedio\"].mean().astype(int)\n",
        "(grouped.iloc[1] - grouped.iloc[0]) / grouped.iloc[0]"
      ],
      "metadata": {
        "colab": {
          "base_uri": "https://localhost:8080/"
        },
        "id": "A9ZILjiNmYL_",
        "outputId": "b6026ff4-1ad9-43a9-d670-e455dd349e6b"
      },
      "execution_count": null,
      "outputs": [
        {
          "output_type": "execute_result",
          "data": {
            "text/plain": [
              "0.32809167723996435"
            ]
          },
          "metadata": {},
          "execution_count": 32
        }
      ]
    },
    {
      "cell_type": "code",
      "source": [
        "from numpy import mean,median, std\n",
        "seaborn.set_theme(style=\"white\", palette=\"Set2\")\n",
        "\n",
        "plt.figure(figsize = [15,7])\n",
        "seaborn.barplot(data = df_graph, x = \"Años de experiencia en el rubro\", y = \"Salario mensual neto promedio\", hue= \"Género\", estimator = mean, ci = None)# ci = 95\n",
        "seaborn.despine()\n",
        "plt.tick_params(labelsize = 15)\n",
        "plt.xlabel(\"Años de experiencia en el rubro\", fontsize=20)\n",
        "plt.ylabel(\"Salario mensual neto promedio\",   fontsize=20)\n",
        "plt.legend(fontsize = 15)\n",
        "plt.show()"
      ],
      "metadata": {
        "colab": {
          "base_uri": "https://localhost:8080/",
          "height": 459
        },
        "id": "JJ8ZAOgLaxQp",
        "outputId": "b495cde4-1a05-4ee8-9e8c-76667746d5fc"
      },
      "execution_count": null,
      "outputs": [
        {
          "output_type": "display_data",
          "data": {
            "text/plain": [
              "<Figure size 1080x504 with 1 Axes>"
            ],
            "image/png": "[encoded data removed]"
          },
          "metadata": {}
        }
      ]
    },
    {
      "cell_type": "code",
      "source": [
        "df_graph.groupby([\"Años de experiencia en el rubro\", \"Género\"])['Salario mensual neto promedio'].mean().round()"
      ],
      "metadata": {
        "id": "QXnqs_3qp_44",
        "colab": {
          "base_uri": "https://localhost:8080/"
        },
        "outputId": "fd90567a-3ae5-49cb-d884-2b9cb5081a1e"
      },
      "execution_count": null,
      "outputs": [
        {
          "output_type": "execute_result",
          "data": {
            "text/plain": [
              "Años de experiencia en el rubro  Género         \n",
              "0 a 3                            Mujeres y Otres     57207.0\n",
              "                                 Varones             63013.0\n",
              "3 a 6                            Mujeres y Otres     77471.0\n",
              "                                 Varones             90387.0\n",
              "Mas de 6                         Mujeres y Otres     92336.0\n",
              "                                 Varones            119302.0\n",
              "Name: Salario mensual neto promedio, dtype: float64"
            ]
          },
          "metadata": {},
          "execution_count": 38
        }
      ]
    }
  ],
  "metadata": {
    "colab": {
      "collapsed_sections": [],
      "name": "G25 Entregable AyVD - Parte 2.ipynb",
      "provenance": []
    },
    "kernelspec": {
      "display_name": "Python 3",
      "name": "python3"
    }
  },
  "nbformat": 4,
  "nbformat_minor": 0
}