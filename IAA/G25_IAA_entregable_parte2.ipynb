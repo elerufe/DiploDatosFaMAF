{
  "cells": [
    {
      "cell_type": "markdown",
      "metadata": {
        "id": "w0Npmaukifby"
      },
      "source": [
        "#Grupo 25 - Entregable IAA\n",
        "\n",
        "#Parte 2 de 2\n",
        "\n",
        "Integrantes:\n",
        "\n",
        "Rufeil Fiori, Elena\n",
        "\n",
        "Sosa, Manuel\n",
        "\n",
        "Taié Mirón, Macarena\n",
        "\n",
        "Yurovich, Luis Federico"
      ]
    },
    {
      "cell_type": "markdown",
      "source": [
        "# Laboratorio 2: Armado de un esquema de aprendizaje automático\n",
        "\n",
        "En el laboratorio final se espera que puedan poner en práctica los conocimientos adquiridos en el curso, trabajando con un conjunto de datos de clasificación.\n",
        "\n",
        "El objetivo es que se introduzcan en el desarrollo de un esquema para hacer tareas de aprendizaje automático: selección de un modelo, ajuste de hiperparámetros y evaluación.\n",
        "\n",
        "El conjunto de datos a utilizar está en `./data/loan_data.csv`. Si abren el archivo verán que al principio (las líneas que empiezan con `#`) describen el conjunto de datos y sus atributos (incluyendo el atributo de etiqueta o clase).\n",
        "\n",
        "Se espera que hagan uso de las herramientas vistas en el curso. Se espera que hagan uso especialmente de las herramientas brindadas por `scikit-learn`."
      ],
      "metadata": {
        "id": "SSfwZ340EhP4"
      }
    },
    {
      "cell_type": "code",
      "execution_count": null,
      "metadata": {
        "id": "tvZiche6ifb2"
      },
      "outputs": [],
      "source": [
        "import numpy as np\n",
        "import pandas as pd\n",
        "import matplotlib.pyplot as plt\n",
        "import seaborn as sns\n",
        "\n",
        "# TODO: Agregar las librerías que hagan falta\n",
        "from sklearn.model_selection import train_test_split\n",
        "from sklearn.linear_model import SGDClassifier\n",
        "from sklearn.metrics import accuracy_score, precision_score, recall_score, f1_score, confusion_matrix\n",
        "from sklearn.linear_model import SGDClassifier\n",
        "from sklearn.preprocessing import StandardScaler\n",
        "from sklearn.pipeline import make_pipeline\n",
        "from sklearn.metrics import classification_report\n",
        "from sklearn.model_selection import GridSearchCV\n",
        "from sklearn.tree import DecisionTreeClassifier"
      ]
    },
    {
      "cell_type": "markdown",
      "metadata": {
        "id": "6SnmRmKNifb3"
      },
      "source": [
        "## Carga de datos y división en entrenamiento y evaluación\n",
        "\n",
        "La celda siguiente se encarga de la carga de datos (haciendo uso de pandas). Estos serán los que se trabajarán en el resto del laboratorio."
      ]
    },
    {
      "cell_type": "code",
      "execution_count": null,
      "metadata": {
        "id": "DWOVxi2Gifb4"
      },
      "outputs": [],
      "source": [
        "dataset = pd.read_csv(\"https://raw.githubusercontent.com/DiploDatos/IntroduccionAprendizajeAutomatico/master/data/loan_data.csv\", comment=\"#\")\n",
        "\n",
        "# División entre instancias y etiquetas\n",
        "X, y = dataset.iloc[:, 1:], dataset.TARGET\n",
        "\n",
        "# división entre entrenamiento y evaluación\n",
        "X_train, X_test, y_train, y_test = train_test_split(X, y, test_size=0.2, random_state=0)"
      ]
    },
    {
      "cell_type": "code",
      "source": [
        "dataset.head()"
      ],
      "metadata": {
        "colab": {
          "base_uri": "https://localhost:8080/",
          "height": 206
        },
        "id": "detcusvqaNTv",
        "outputId": "21531f72-c1e4-42bb-8447-a24117f070cc"
      },
      "execution_count": null,
      "outputs": [
        {
          "output_type": "execute_result",
          "data": {
            "text/plain": [
              "   TARGET   LOAN  MORTDUE     VALUE   YOJ  DEROG  DELINQ       CLAGE  NINQ  \\\n",
              "0       0   4700  88026.0  115506.0   6.0    0.0     0.0  182.248332   0.0   \n",
              "1       0  19300  39926.0  101208.0   4.0    0.0     0.0  140.051638   0.0   \n",
              "2       0   5700  71556.0   79538.0   2.0    0.0     0.0   92.643085   0.0   \n",
              "3       0  13000  44875.0   57713.0   0.0    1.0     0.0  184.990324   1.0   \n",
              "4       0  19300  72752.0  106084.0  11.0    0.0     0.0  193.707100   1.0   \n",
              "\n",
              "   CLNO    DEBTINC  \n",
              "0  27.0  29.209023  \n",
              "1  14.0  31.545694  \n",
              "2  15.0  41.210012  \n",
              "3  12.0  28.602076  \n",
              "4  13.0  30.686106  "
            ],
            "text/html": [
              "\n",
              "  <div id=\"df-534b04b2-6b80-4ef5-a492-061fe565eb13\">\n",
              "    <div class=\"colab-df-container\">\n",
              "      <div>\n",
              "<style scoped>\n",
              "    .dataframe tbody tr th:only-of-type {\n",
              "        vertical-align: middle;\n",
              "    }\n",
              "\n",
              "    .dataframe tbody tr th {\n",
              "        vertical-align: top;\n",
              "    }\n",
              "\n",
              "    .dataframe thead th {\n",
              "        text-align: right;\n",
              "    }\n",
              "</style>\n",
              "<table border=\"1\" class=\"dataframe\">\n",
              "  <thead>\n",
              "    <tr style=\"text-align: right;\">\n",
              "      <th></th>\n",
              "      <th>TARGET</th>\n",
              "      <th>LOAN</th>\n",
              "      <th>MORTDUE</th>\n",
              "      <th>VALUE</th>\n",
              "      <th>YOJ</th>\n",
              "      <th>DEROG</th>\n",
              "      <th>DELINQ</th>\n",
              "      <th>CLAGE</th>\n",
              "      <th>NINQ</th>\n",
              "      <th>CLNO</th>\n",
              "      <th>DEBTINC</th>\n",
              "    </tr>\n",
              "  </thead>\n",
              "  <tbody>\n",
              "    <tr>\n",
              "      <th>0</th>\n",
              "      <td>0</td>\n",
              "      <td>4700</td>\n",
              "      <td>88026.0</td>\n",
              "      <td>115506.0</td>\n",
              "      <td>6.0</td>\n",
              "      <td>0.0</td>\n",
              "      <td>0.0</td>\n",
              "      <td>182.248332</td>\n",
              "      <td>0.0</td>\n",
              "      <td>27.0</td>\n",
              "      <td>29.209023</td>\n",
              "    </tr>\n",
              "    <tr>\n",
              "      <th>1</th>\n",
              "      <td>0</td>\n",
              "      <td>19300</td>\n",
              "      <td>39926.0</td>\n",
              "      <td>101208.0</td>\n",
              "      <td>4.0</td>\n",
              "      <td>0.0</td>\n",
              "      <td>0.0</td>\n",
              "      <td>140.051638</td>\n",
              "      <td>0.0</td>\n",
              "      <td>14.0</td>\n",
              "      <td>31.545694</td>\n",
              "    </tr>\n",
              "    <tr>\n",
              "      <th>2</th>\n",
              "      <td>0</td>\n",
              "      <td>5700</td>\n",
              "      <td>71556.0</td>\n",
              "      <td>79538.0</td>\n",
              "      <td>2.0</td>\n",
              "      <td>0.0</td>\n",
              "      <td>0.0</td>\n",
              "      <td>92.643085</td>\n",
              "      <td>0.0</td>\n",
              "      <td>15.0</td>\n",
              "      <td>41.210012</td>\n",
              "    </tr>\n",
              "    <tr>\n",
              "      <th>3</th>\n",
              "      <td>0</td>\n",
              "      <td>13000</td>\n",
              "      <td>44875.0</td>\n",
              "      <td>57713.0</td>\n",
              "      <td>0.0</td>\n",
              "      <td>1.0</td>\n",
              "      <td>0.0</td>\n",
              "      <td>184.990324</td>\n",
              "      <td>1.0</td>\n",
              "      <td>12.0</td>\n",
              "      <td>28.602076</td>\n",
              "    </tr>\n",
              "    <tr>\n",
              "      <th>4</th>\n",
              "      <td>0</td>\n",
              "      <td>19300</td>\n",
              "      <td>72752.0</td>\n",
              "      <td>106084.0</td>\n",
              "      <td>11.0</td>\n",
              "      <td>0.0</td>\n",
              "      <td>0.0</td>\n",
              "      <td>193.707100</td>\n",
              "      <td>1.0</td>\n",
              "      <td>13.0</td>\n",
              "      <td>30.686106</td>\n",
              "    </tr>\n",
              "  </tbody>\n",
              "</table>\n",
              "</div>\n",
              "      <button class=\"colab-df-convert\" onclick=\"convertToInteractive('df-534b04b2-6b80-4ef5-a492-061fe565eb13')\"\n",
              "              title=\"Convert this dataframe to an interactive table.\"\n",
              "              style=\"display:none;\">\n",
              "        \n",
              "  <svg xmlns=\"http://www.w3.org/2000/svg\" height=\"24px\"viewBox=\"0 0 24 24\"\n",
              "       width=\"24px\">\n",
              "    <path d=\"M0 0h24v24H0V0z\" fill=\"none\"/>\n",
              "    <path d=\"M18.56 5.44l.94 2.06.94-2.06 2.06-.94-2.06-.94-.94-2.06-.94 2.06-2.06.94zm-11 1L8.5 8.5l.94-2.06 2.06-.94-2.06-.94L8.5 2.5l-.94 2.06-2.06.94zm10 10l.94 2.06.94-2.06 2.06-.94-2.06-.94-.94-2.06-.94 2.06-2.06.94z\"/><path d=\"M17.41 7.96l-1.37-1.37c-.4-.4-.92-.59-1.43-.59-.52 0-1.04.2-1.43.59L10.3 9.45l-7.72 7.72c-.78.78-.78 2.05 0 2.83L4 21.41c.39.39.9.59 1.41.59.51 0 1.02-.2 1.41-.59l7.78-7.78 2.81-2.81c.8-.78.8-2.07 0-2.86zM5.41 20L4 18.59l7.72-7.72 1.47 1.35L5.41 20z\"/>\n",
              "  </svg>\n",
              "      </button>\n",
              "      \n",
              "  <style>\n",
              "    .colab-df-container {\n",
              "      display:flex;\n",
              "      flex-wrap:wrap;\n",
              "      gap: 12px;\n",
              "    }\n",
              "\n",
              "    .colab-df-convert {\n",
              "      background-color: #E8F0FE;\n",
              "      border: none;\n",
              "      border-radius: 50%;\n",
              "      cursor: pointer;\n",
              "      display: none;\n",
              "      fill: #1967D2;\n",
              "      height: 32px;\n",
              "      padding: 0 0 0 0;\n",
              "      width: 32px;\n",
              "    }\n",
              "\n",
              "    .colab-df-convert:hover {\n",
              "      background-color: #E2EBFA;\n",
              "      box-shadow: 0px 1px 2px rgba(60, 64, 67, 0.3), 0px 1px 3px 1px rgba(60, 64, 67, 0.15);\n",
              "      fill: #174EA6;\n",
              "    }\n",
              "\n",
              "    [theme=dark] .colab-df-convert {\n",
              "      background-color: #3B4455;\n",
              "      fill: #D2E3FC;\n",
              "    }\n",
              "\n",
              "    [theme=dark] .colab-df-convert:hover {\n",
              "      background-color: #434B5C;\n",
              "      box-shadow: 0px 1px 3px 1px rgba(0, 0, 0, 0.15);\n",
              "      filter: drop-shadow(0px 1px 2px rgba(0, 0, 0, 0.3));\n",
              "      fill: #FFFFFF;\n",
              "    }\n",
              "  </style>\n",
              "\n",
              "      <script>\n",
              "        const buttonEl =\n",
              "          document.querySelector('#df-534b04b2-6b80-4ef5-a492-061fe565eb13 button.colab-df-convert');\n",
              "        buttonEl.style.display =\n",
              "          google.colab.kernel.accessAllowed ? 'block' : 'none';\n",
              "\n",
              "        async function convertToInteractive(key) {\n",
              "          const element = document.querySelector('#df-534b04b2-6b80-4ef5-a492-061fe565eb13');\n",
              "          const dataTable =\n",
              "            await google.colab.kernel.invokeFunction('convertToInteractive',\n",
              "                                                     [key], {});\n",
              "          if (!dataTable) return;\n",
              "\n",
              "          const docLinkHtml = 'Like what you see? Visit the ' +\n",
              "            '<a target=\"_blank\" href=https://colab.research.google.com/notebooks/data_table.ipynb>data table notebook</a>'\n",
              "            + ' to learn more about interactive tables.';\n",
              "          element.innerHTML = '';\n",
              "          dataTable['output_type'] = 'display_data';\n",
              "          await google.colab.output.renderOutput(dataTable, element);\n",
              "          const docLink = document.createElement('div');\n",
              "          docLink.innerHTML = docLinkHtml;\n",
              "          element.appendChild(docLink);\n",
              "        }\n",
              "      </script>\n",
              "    </div>\n",
              "  </div>\n",
              "  "
            ]
          },
          "metadata": {},
          "execution_count": 26
        }
      ]
    },
    {
      "cell_type": "markdown",
      "metadata": {
        "id": "bhgmoiEdifb4"
      },
      "source": [
        "\n",
        "Documentación:\n",
        "\n",
        "- https://scikit-learn.org/stable/modules/generated/sklearn.model_selection.train_test_split.html"
      ]
    },
    {
      "cell_type": "markdown",
      "metadata": {
        "id": "sEAgXJdzifb4"
      },
      "source": [
        "## Ejercicio 1: Descripción de los Datos y la Tarea\n",
        "\n",
        "Responder las siguientes preguntas:\n",
        "\n",
        "1. ¿De qué se trata el conjunto de datos?\n",
        "2. ¿Cuál es la variable objetivo que hay que predecir? ¿Qué significado tiene?\n",
        "3. ¿Qué información (atributos) hay disponible para hacer la predicción?\n",
        "4. ¿Qué atributos imagina ud. que son los más determinantes para la predicción?\n",
        "\n",
        "**No hace falta escribir código para responder estas preguntas.**"
      ]
    },
    {
      "cell_type": "markdown",
      "source": [
        "1) Los datos del dataset contienen información sobre créditos hipotecarios que se les otorgó a ciertas personas, junto con su historial crediticio.\n",
        "\n",
        "2) La variable objetivo sería el TARGET, que hace referencia a si se pagó o no el préstamo. Vale 0 cuando el cliente pagó el préstamo, y 1 cuando no.\n",
        "\n",
        "3) Los atributos disponibles son los siguientes:\n",
        "\n",
        "* 'LOAN' (préstamo): Monto de la solicitud de préstamo  \n",
        "* 'MORTDUE': Monto adeudado de la hipoteca existente\n",
        "* 'VALUE': Valor de la propiedad actual\n",
        "* 'YOJ': Años en el trabajo actual\n",
        "* 'DEROG': Número de reportes derogados\n",
        "* 'DELINQ': Número de créditos adeudados\n",
        "* 'CLAGE': Antigüedad de la línea de crédito más antigua (en meses)\n",
        "* 'NINQ': Número de líneas de crédito recientes\n",
        "* 'CLNO': Número de líneas de crédito\n",
        "* 'DEBTINC': Relación deuda-ingresos\n",
        "\n",
        "\n",
        "\n",
        "4) Creemos que los atributos más determinantes podrían ser DEROG, DELINQ, DEBTINC y MORTDUE. Elegimos la variable DEROG porque asumimos que hubo un estudio previo para derogarle prestamos. DELINQ fue escogida porque influye de manera negativa en próximos pagos. Elegimos DEBTINC porque imaginamos que existe una correlación positiva entre ingresos y posibilidad de pago-deuda. Consideramos que MORTDUE es un atributo importante debido a que quizas cuanto menos deuda tenga, menos probabilidad de pago del prestamo.   "
      ],
      "metadata": {
        "id": "lLOWEBvt8q5r"
      }
    },
    {
      "cell_type": "markdown",
      "metadata": {
        "id": "5HzdNkyQifb5"
      },
      "source": [
        "## Ejercicio 2: Predicción con Modelos Lineales\n",
        "\n",
        "En este ejercicio se entrenarán modelos lineales de clasificación para predecir la variable objetivo.\n",
        "\n",
        "Para ello, deberán utilizar la clase SGDClassifier de scikit-learn.\n",
        "\n",
        "Documentación:\n",
        "- https://scikit-learn.org/stable/modules/sgd.html\n",
        "- https://scikit-learn.org/stable/modules/generated/sklearn.linear_model.SGDClassifier.html\n"
      ]
    },
    {
      "cell_type": "markdown",
      "metadata": {
        "id": "bUiorvfqifb6"
      },
      "source": [
        "### Ejercicio 2.1: SGDClassifier con hiperparámetros por defecto\n",
        "\n",
        "Entrenar y evaluar el clasificador SGDClassifier usando los valores por omisión de scikit-learn para todos los parámetros. Únicamente **fijar la semilla aleatoria** para hacer repetible el experimento.\n",
        "\n",
        "Evaluar sobre el conjunto de **entrenamiento** y sobre el conjunto de **evaluación**, reportando:\n",
        "- Accuracy\n",
        "- Precision\n",
        "- Recall\n",
        "- F1\n",
        "- matriz de confusión"
      ]
    },
    {
      "cell_type": "markdown",
      "source": [
        "**Evaluar sobre el conjunto de entrenamiento (train)**"
      ],
      "metadata": {
        "id": "Z0g8I49NlJay"
      }
    },
    {
      "cell_type": "code",
      "source": [
        "clf = SGDClassifier(random_state= 100)\n",
        "scaler = StandardScaler()\n",
        "model = make_pipeline(scaler, clf)\n",
        "model = model.fit(X_train, y_train)"
      ],
      "metadata": {
        "id": "Bhav-2TpXzpw"
      },
      "execution_count": null,
      "outputs": []
    },
    {
      "cell_type": "code",
      "source": [
        "y_pred_train = model.predict(X_train)\n",
        "cm= confusion_matrix(y_train, y_pred_train)\n",
        "print('Resultados para conjunto de train \\n')\n",
        "print(classification_report(y_train, y_pred_train))\n",
        "\n",
        "sns.heatmap(confusion_matrix(y_train, y_pred_train, normalize = 'true'), annot= True)"
      ],
      "metadata": {
        "colab": {
          "base_uri": "https://localhost:8080/",
          "height": 473
        },
        "id": "9UIEkP0IXgAZ",
        "outputId": "c7525bc9-104a-4f41-d6fe-9a48ea798df1"
      },
      "execution_count": null,
      "outputs": [
        {
          "output_type": "stream",
          "name": "stdout",
          "text": [
            "Resultados para conjunto de train \n",
            "\n",
            "              precision    recall  f1-score   support\n",
            "\n",
            "           0       0.87      0.98      0.93      1232\n",
            "           1       0.80      0.30      0.43       251\n",
            "\n",
            "    accuracy                           0.87      1483\n",
            "   macro avg       0.84      0.64      0.68      1483\n",
            "weighted avg       0.86      0.87      0.84      1483\n",
            "\n"
          ]
        },
        {
          "output_type": "execute_result",
          "data": {
            "text/plain": [
              "<matplotlib.axes._subplots.AxesSubplot at 0x7f3611329210>"
            ]
          },
          "metadata": {},
          "execution_count": 6
        },
        {
          "output_type": "display_data",
          "data": {
            "text/plain": [
              "<Figure size 432x288 with 2 Axes>"
            ],
            "image/png": "[encoded data removed]"
          },
          "metadata": {
            "needs_background": "light"
          }
        }
      ]
    },
    {
      "cell_type": "markdown",
      "source": [
        " Para los datos de entrenamiento observamos que: \n",
        "\n",
        "*   El accuracy es de 87%. \n",
        "*   La precisión de clientes deudores (1) es de 80%.\n",
        "*   La precisión de clientes que pagan en termino (0) es de 87%.\n",
        "*   El recall de clientes deudores (1) es de 30%. \n",
        "*   El recall de clientes que pagan en término (0) es de 98%.\n",
        "*   El F1-score de clientes deudores (1) es de 43%. \n",
        "*   El F1-score de clientes que pagan en término (0) es de 93%.\n",
        "\n",
        "Consideramos más importante la optimización de recall de los clientes deudores  para identificar la mayor cantidad de dichos clientes, debido a que interpretamos que la empresa  tiene este objetivo.  \n",
        "\n"
      ],
      "metadata": {
        "id": "inKJOkuS3dJD"
      }
    },
    {
      "cell_type": "markdown",
      "source": [
        "**Evaluar sobre el conjunto de evaluación (test)**"
      ],
      "metadata": {
        "id": "M1dkFmx6-93F"
      }
    },
    {
      "cell_type": "code",
      "source": [
        "y_pred = model.predict(X_test)\n",
        "sns.heatmap(confusion_matrix(y_test, y_pred, normalize = 'true'), annot= True)\n",
        "print('Resultados para conjunto de test \\n')\n",
        "print(classification_report(y_test, y_pred))"
      ],
      "metadata": {
        "colab": {
          "base_uri": "https://localhost:8080/",
          "height": 456
        },
        "id": "Drn9SpF1eue9",
        "outputId": "719bd031-5909-47a1-a106-978d53dd8e40"
      },
      "execution_count": null,
      "outputs": [
        {
          "output_type": "stream",
          "name": "stdout",
          "text": [
            "Resultados para conjunto de test \n",
            "\n",
            "              precision    recall  f1-score   support\n",
            "\n",
            "           0       0.88      0.99      0.93       313\n",
            "           1       0.85      0.29      0.44        58\n",
            "\n",
            "    accuracy                           0.88       371\n",
            "   macro avg       0.87      0.64      0.68       371\n",
            "weighted avg       0.88      0.88      0.86       371\n",
            "\n"
          ]
        },
        {
          "output_type": "display_data",
          "data": {
            "text/plain": [
              "<Figure size 432x288 with 2 Axes>"
            ],
            "image/png": "[encoded data removed]"
          },
          "metadata": {
            "needs_background": "light"
          }
        }
      ]
    },
    {
      "cell_type": "markdown",
      "source": [
        " Para los datos de evaluación observamos que: \n",
        "\n",
        "*   El accuracy es de 88% (muy semejante al accuracy del conjunto de entrenamiento; 87%).    \n",
        "*   La precisión de clientes deudores (1) es de 85% (es levemente mayor al valor obtenido en el caso anterior; 80%).\n",
        "*   La precisión de clientes que pagan en termino (0) es de 88% (se asemeja al valor obtenido en el conjunto de entrenamiento; 87%).\n",
        "*   El recall de clientes deudores (1) es de 29% (este valor es similar al obtenido anteriormente; 30%). \n",
        "*   El recall de clientes que pagan en término (0) es de 99% (esta métrica es similar al anterior; 98%).\n",
        "*   El F1-score de clientes deudores (1) es de 44% (similar al caso anterior; 43%). \n",
        "*   El F1-score de clientes que pagan en término (0) es de 93% (mismo valor que en la etapa anterior; 93%).\n",
        "\n",
        "Con estos resultados podemos ver que no se identifica overfitting. Sin embargo, debemos trabajar para mejorar el modelo con el fin de obtener un mejor recall de los clientes deudores."
      ],
      "metadata": {
        "id": "xu5JtoIq-AT_"
      }
    },
    {
      "cell_type": "markdown",
      "metadata": {
        "id": "0RUlQH9uifb7"
      },
      "source": [
        "### Ejercicio 2.2: Ajuste de Hiperparámetros\n",
        "\n",
        "Seleccionar valores para los hiperparámetros principales del SGDClassifier. Como mínimo, probar diferentes funciones de loss, tasas de entrenamiento y tasas de regularización.\n",
        "\n",
        "Para ello, usar grid-search y 5-fold cross-validation sobre el conjunto de entrenamiento para explorar muchas combinaciones posibles de valores.\n",
        "\n",
        "Reportar accuracy promedio y varianza para todas las configuraciones.\n",
        "\n",
        "Para la mejor configuración encontrada, evaluar sobre el conjunto de **entrenamiento** y sobre el conjunto de **evaluación**, reportando:\n",
        "- Accuracy\n",
        "- Precision\n",
        "- Recall\n",
        "- F1\n",
        "- matriz de confusión\n",
        "\n",
        "Documentación:\n",
        "- https://scikit-learn.org/stable/modules/grid_search.html\n",
        "- https://scikit-learn.org/stable/modules/generated/sklearn.model_selection.GridSearchCV.html"
      ]
    },
    {
      "cell_type": "code",
      "source": [
        "param_grid = {\n",
        "    'sgdclassifier__loss': ['hinge', 'log', 'perceptron'],\n",
        "    'sgdclassifier__alpha': [0.001, 0.0001, 0.00001],\n",
        "    'sgdclassifier__penalty': ['l2','l1','elasticnet'],\n",
        "    'sgdclassifier__class_weight' : ['balanced']\n",
        "}\n",
        "\n",
        "cv = GridSearchCV(model, param_grid, scoring='recall', cv=5)\n",
        "cv.fit(X_train, y_train)\n",
        "\n",
        "results = cv.cv_results_\n",
        "df = pd.DataFrame(results)\n",
        "\n",
        "df[['param_sgdclassifier__loss', 'param_sgdclassifier__alpha', 'param_sgdclassifier__penalty', 'mean_test_score', 'std_test_score', 'rank_test_score']].sort_values('rank_test_score')"
      ],
      "metadata": {
        "colab": {
          "base_uri": "https://localhost:8080/",
          "height": 896
        },
        "id": "TYDWF1Z__dGi",
        "outputId": "d3137a64-9335-40aa-8b42-7cb5c42df99c"
      },
      "execution_count": null,
      "outputs": [
        {
          "output_type": "execute_result",
          "data": {
            "text/plain": [
              "   param_sgdclassifier__loss param_sgdclassifier__alpha  \\\n",
              "5                        log                      0.001   \n",
              "4                        log                      0.001   \n",
              "25                perceptron                    0.00001   \n",
              "11                     hinge                     0.0001   \n",
              "22                       log                    0.00001   \n",
              "18                     hinge                    0.00001   \n",
              "2                      hinge                      0.001   \n",
              "3                        log                      0.001   \n",
              "26                perceptron                    0.00001   \n",
              "24                perceptron                    0.00001   \n",
              "7                 perceptron                      0.001   \n",
              "0                      hinge                      0.001   \n",
              "15                perceptron                     0.0001   \n",
              "20                     hinge                    0.00001   \n",
              "6                 perceptron                      0.001   \n",
              "17                perceptron                     0.0001   \n",
              "21                       log                    0.00001   \n",
              "13                       log                     0.0001   \n",
              "1                      hinge                      0.001   \n",
              "9                      hinge                     0.0001   \n",
              "10                     hinge                     0.0001   \n",
              "16                perceptron                     0.0001   \n",
              "14                       log                     0.0001   \n",
              "23                       log                    0.00001   \n",
              "12                       log                     0.0001   \n",
              "8                 perceptron                      0.001   \n",
              "19                     hinge                    0.00001   \n",
              "\n",
              "   param_sgdclassifier__penalty  mean_test_score  std_test_score  \\\n",
              "5                    elasticnet         0.721333        0.060722   \n",
              "4                            l1         0.709333        0.075731   \n",
              "25                           l1         0.705412        0.079318   \n",
              "11                   elasticnet         0.664863        0.076597   \n",
              "22                           l1         0.661412        0.132482   \n",
              "18                           l2         0.657569        0.067366   \n",
              "2                    elasticnet         0.645333        0.046838   \n",
              "3                            l2         0.641961        0.082622   \n",
              "26                   elasticnet         0.641490        0.104830   \n",
              "24                           l2         0.641176        0.047188   \n",
              "7                            l1         0.637412        0.095096   \n",
              "0                            l2         0.629569        0.081105   \n",
              "15                           l2         0.629176        0.079693   \n",
              "20                   elasticnet         0.625882        0.062021   \n",
              "6                            l2         0.625804        0.094308   \n",
              "17                   elasticnet         0.605255        0.092634   \n",
              "21                           l2         0.601098        0.144597   \n",
              "13                           l1         0.585255        0.152811   \n",
              "1                            l1         0.573176        0.074315   \n",
              "9                            l2         0.570039        0.070949   \n",
              "10                           l1         0.569647        0.125803   \n",
              "16                           l1         0.569255        0.100714   \n",
              "14                   elasticnet         0.557725        0.108488   \n",
              "23                   elasticnet         0.553020        0.118674   \n",
              "12                           l2         0.537176        0.123189   \n",
              "8                    elasticnet         0.537098        0.159978   \n",
              "19                           l1         0.522275        0.160143   \n",
              "\n",
              "    rank_test_score  \n",
              "5                 1  \n",
              "4                 2  \n",
              "25                3  \n",
              "11                4  \n",
              "22                5  \n",
              "18                6  \n",
              "2                 7  \n",
              "3                 8  \n",
              "26                9  \n",
              "24               10  \n",
              "7                11  \n",
              "0                12  \n",
              "15               13  \n",
              "20               14  \n",
              "6                15  \n",
              "17               16  \n",
              "21               17  \n",
              "13               18  \n",
              "1                19  \n",
              "9                20  \n",
              "10               21  \n",
              "16               22  \n",
              "14               23  \n",
              "23               24  \n",
              "12               25  \n",
              "8                26  \n",
              "19               27  "
            ],
            "text/html": [
              "\n",
              "  <div id=\"df-6b4329d0-a6e3-492b-acc0-72275fa2b60d\">\n",
              "    <div class=\"colab-df-container\">\n",
              "      <div>\n",
              "<style scoped>\n",
              "    .dataframe tbody tr th:only-of-type {\n",
              "        vertical-align: middle;\n",
              "    }\n",
              "\n",
              "    .dataframe tbody tr th {\n",
              "        vertical-align: top;\n",
              "    }\n",
              "\n",
              "    .dataframe thead th {\n",
              "        text-align: right;\n",
              "    }\n",
              "</style>\n",
              "<table border=\"1\" class=\"dataframe\">\n",
              "  <thead>\n",
              "    <tr style=\"text-align: right;\">\n",
              "      <th></th>\n",
              "      <th>param_sgdclassifier__loss</th>\n",
              "      <th>param_sgdclassifier__alpha</th>\n",
              "      <th>param_sgdclassifier__penalty</th>\n",
              "      <th>mean_test_score</th>\n",
              "      <th>std_test_score</th>\n",
              "      <th>rank_test_score</th>\n",
              "    </tr>\n",
              "  </thead>\n",
              "  <tbody>\n",
              "    <tr>\n",
              "      <th>5</th>\n",
              "      <td>log</td>\n",
              "      <td>0.001</td>\n",
              "      <td>elasticnet</td>\n",
              "      <td>0.721333</td>\n",
              "      <td>0.060722</td>\n",
              "      <td>1</td>\n",
              "    </tr>\n",
              "    <tr>\n",
              "      <th>4</th>\n",
              "      <td>log</td>\n",
              "      <td>0.001</td>\n",
              "      <td>l1</td>\n",
              "      <td>0.709333</td>\n",
              "      <td>0.075731</td>\n",
              "      <td>2</td>\n",
              "    </tr>\n",
              "    <tr>\n",
              "      <th>25</th>\n",
              "      <td>perceptron</td>\n",
              "      <td>0.00001</td>\n",
              "      <td>l1</td>\n",
              "      <td>0.705412</td>\n",
              "      <td>0.079318</td>\n",
              "      <td>3</td>\n",
              "    </tr>\n",
              "    <tr>\n",
              "      <th>11</th>\n",
              "      <td>hinge</td>\n",
              "      <td>0.0001</td>\n",
              "      <td>elasticnet</td>\n",
              "      <td>0.664863</td>\n",
              "      <td>0.076597</td>\n",
              "      <td>4</td>\n",
              "    </tr>\n",
              "    <tr>\n",
              "      <th>22</th>\n",
              "      <td>log</td>\n",
              "      <td>0.00001</td>\n",
              "      <td>l1</td>\n",
              "      <td>0.661412</td>\n",
              "      <td>0.132482</td>\n",
              "      <td>5</td>\n",
              "    </tr>\n",
              "    <tr>\n",
              "      <th>18</th>\n",
              "      <td>hinge</td>\n",
              "      <td>0.00001</td>\n",
              "      <td>l2</td>\n",
              "      <td>0.657569</td>\n",
              "      <td>0.067366</td>\n",
              "      <td>6</td>\n",
              "    </tr>\n",
              "    <tr>\n",
              "      <th>2</th>\n",
              "      <td>hinge</td>\n",
              "      <td>0.001</td>\n",
              "      <td>elasticnet</td>\n",
              "      <td>0.645333</td>\n",
              "      <td>0.046838</td>\n",
              "      <td>7</td>\n",
              "    </tr>\n",
              "    <tr>\n",
              "      <th>3</th>\n",
              "      <td>log</td>\n",
              "      <td>0.001</td>\n",
              "      <td>l2</td>\n",
              "      <td>0.641961</td>\n",
              "      <td>0.082622</td>\n",
              "      <td>8</td>\n",
              "    </tr>\n",
              "    <tr>\n",
              "      <th>26</th>\n",
              "      <td>perceptron</td>\n",
              "      <td>0.00001</td>\n",
              "      <td>elasticnet</td>\n",
              "      <td>0.641490</td>\n",
              "      <td>0.104830</td>\n",
              "      <td>9</td>\n",
              "    </tr>\n",
              "    <tr>\n",
              "      <th>24</th>\n",
              "      <td>perceptron</td>\n",
              "      <td>0.00001</td>\n",
              "      <td>l2</td>\n",
              "      <td>0.641176</td>\n",
              "      <td>0.047188</td>\n",
              "      <td>10</td>\n",
              "    </tr>\n",
              "    <tr>\n",
              "      <th>7</th>\n",
              "      <td>perceptron</td>\n",
              "      <td>0.001</td>\n",
              "      <td>l1</td>\n",
              "      <td>0.637412</td>\n",
              "      <td>0.095096</td>\n",
              "      <td>11</td>\n",
              "    </tr>\n",
              "    <tr>\n",
              "      <th>0</th>\n",
              "      <td>hinge</td>\n",
              "      <td>0.001</td>\n",
              "      <td>l2</td>\n",
              "      <td>0.629569</td>\n",
              "      <td>0.081105</td>\n",
              "      <td>12</td>\n",
              "    </tr>\n",
              "    <tr>\n",
              "      <th>15</th>\n",
              "      <td>perceptron</td>\n",
              "      <td>0.0001</td>\n",
              "      <td>l2</td>\n",
              "      <td>0.629176</td>\n",
              "      <td>0.079693</td>\n",
              "      <td>13</td>\n",
              "    </tr>\n",
              "    <tr>\n",
              "      <th>20</th>\n",
              "      <td>hinge</td>\n",
              "      <td>0.00001</td>\n",
              "      <td>elasticnet</td>\n",
              "      <td>0.625882</td>\n",
              "      <td>0.062021</td>\n",
              "      <td>14</td>\n",
              "    </tr>\n",
              "    <tr>\n",
              "      <th>6</th>\n",
              "      <td>perceptron</td>\n",
              "      <td>0.001</td>\n",
              "      <td>l2</td>\n",
              "      <td>0.625804</td>\n",
              "      <td>0.094308</td>\n",
              "      <td>15</td>\n",
              "    </tr>\n",
              "    <tr>\n",
              "      <th>17</th>\n",
              "      <td>perceptron</td>\n",
              "      <td>0.0001</td>\n",
              "      <td>elasticnet</td>\n",
              "      <td>0.605255</td>\n",
              "      <td>0.092634</td>\n",
              "      <td>16</td>\n",
              "    </tr>\n",
              "    <tr>\n",
              "      <th>21</th>\n",
              "      <td>log</td>\n",
              "      <td>0.00001</td>\n",
              "      <td>l2</td>\n",
              "      <td>0.601098</td>\n",
              "      <td>0.144597</td>\n",
              "      <td>17</td>\n",
              "    </tr>\n",
              "    <tr>\n",
              "      <th>13</th>\n",
              "      <td>log</td>\n",
              "      <td>0.0001</td>\n",
              "      <td>l1</td>\n",
              "      <td>0.585255</td>\n",
              "      <td>0.152811</td>\n",
              "      <td>18</td>\n",
              "    </tr>\n",
              "    <tr>\n",
              "      <th>1</th>\n",
              "      <td>hinge</td>\n",
              "      <td>0.001</td>\n",
              "      <td>l1</td>\n",
              "      <td>0.573176</td>\n",
              "      <td>0.074315</td>\n",
              "      <td>19</td>\n",
              "    </tr>\n",
              "    <tr>\n",
              "      <th>9</th>\n",
              "      <td>hinge</td>\n",
              "      <td>0.0001</td>\n",
              "      <td>l2</td>\n",
              "      <td>0.570039</td>\n",
              "      <td>0.070949</td>\n",
              "      <td>20</td>\n",
              "    </tr>\n",
              "    <tr>\n",
              "      <th>10</th>\n",
              "      <td>hinge</td>\n",
              "      <td>0.0001</td>\n",
              "      <td>l1</td>\n",
              "      <td>0.569647</td>\n",
              "      <td>0.125803</td>\n",
              "      <td>21</td>\n",
              "    </tr>\n",
              "    <tr>\n",
              "      <th>16</th>\n",
              "      <td>perceptron</td>\n",
              "      <td>0.0001</td>\n",
              "      <td>l1</td>\n",
              "      <td>0.569255</td>\n",
              "      <td>0.100714</td>\n",
              "      <td>22</td>\n",
              "    </tr>\n",
              "    <tr>\n",
              "      <th>14</th>\n",
              "      <td>log</td>\n",
              "      <td>0.0001</td>\n",
              "      <td>elasticnet</td>\n",
              "      <td>0.557725</td>\n",
              "      <td>0.108488</td>\n",
              "      <td>23</td>\n",
              "    </tr>\n",
              "    <tr>\n",
              "      <th>23</th>\n",
              "      <td>log</td>\n",
              "      <td>0.00001</td>\n",
              "      <td>elasticnet</td>\n",
              "      <td>0.553020</td>\n",
              "      <td>0.118674</td>\n",
              "      <td>24</td>\n",
              "    </tr>\n",
              "    <tr>\n",
              "      <th>12</th>\n",
              "      <td>log</td>\n",
              "      <td>0.0001</td>\n",
              "      <td>l2</td>\n",
              "      <td>0.537176</td>\n",
              "      <td>0.123189</td>\n",
              "      <td>25</td>\n",
              "    </tr>\n",
              "    <tr>\n",
              "      <th>8</th>\n",
              "      <td>perceptron</td>\n",
              "      <td>0.001</td>\n",
              "      <td>elasticnet</td>\n",
              "      <td>0.537098</td>\n",
              "      <td>0.159978</td>\n",
              "      <td>26</td>\n",
              "    </tr>\n",
              "    <tr>\n",
              "      <th>19</th>\n",
              "      <td>hinge</td>\n",
              "      <td>0.00001</td>\n",
              "      <td>l1</td>\n",
              "      <td>0.522275</td>\n",
              "      <td>0.160143</td>\n",
              "      <td>27</td>\n",
              "    </tr>\n",
              "  </tbody>\n",
              "</table>\n",
              "</div>\n",
              "      <button class=\"colab-df-convert\" onclick=\"convertToInteractive('df-6b4329d0-a6e3-492b-acc0-72275fa2b60d')\"\n",
              "              title=\"Convert this dataframe to an interactive table.\"\n",
              "              style=\"display:none;\">\n",
              "        \n",
              "  <svg xmlns=\"http://www.w3.org/2000/svg\" height=\"24px\"viewBox=\"0 0 24 24\"\n",
              "       width=\"24px\">\n",
              "    <path d=\"M0 0h24v24H0V0z\" fill=\"none\"/>\n",
              "    <path d=\"M18.56 5.44l.94 2.06.94-2.06 2.06-.94-2.06-.94-.94-2.06-.94 2.06-2.06.94zm-11 1L8.5 8.5l.94-2.06 2.06-.94-2.06-.94L8.5 2.5l-.94 2.06-2.06.94zm10 10l.94 2.06.94-2.06 2.06-.94-2.06-.94-.94-2.06-.94 2.06-2.06.94z\"/><path d=\"M17.41 7.96l-1.37-1.37c-.4-.4-.92-.59-1.43-.59-.52 0-1.04.2-1.43.59L10.3 9.45l-7.72 7.72c-.78.78-.78 2.05 0 2.83L4 21.41c.39.39.9.59 1.41.59.51 0 1.02-.2 1.41-.59l7.78-7.78 2.81-2.81c.8-.78.8-2.07 0-2.86zM5.41 20L4 18.59l7.72-7.72 1.47 1.35L5.41 20z\"/>\n",
              "  </svg>\n",
              "      </button>\n",
              "      \n",
              "  <style>\n",
              "    .colab-df-container {\n",
              "      display:flex;\n",
              "      flex-wrap:wrap;\n",
              "      gap: 12px;\n",
              "    }\n",
              "\n",
              "    .colab-df-convert {\n",
              "      background-color: #E8F0FE;\n",
              "      border: none;\n",
              "      border-radius: 50%;\n",
              "      cursor: pointer;\n",
              "      display: none;\n",
              "      fill: #1967D2;\n",
              "      height: 32px;\n",
              "      padding: 0 0 0 0;\n",
              "      width: 32px;\n",
              "    }\n",
              "\n",
              "    .colab-df-convert:hover {\n",
              "      background-color: #E2EBFA;\n",
              "      box-shadow: 0px 1px 2px rgba(60, 64, 67, 0.3), 0px 1px 3px 1px rgba(60, 64, 67, 0.15);\n",
              "      fill: #174EA6;\n",
              "    }\n",
              "\n",
              "    [theme=dark] .colab-df-convert {\n",
              "      background-color: #3B4455;\n",
              "      fill: #D2E3FC;\n",
              "    }\n",
              "\n",
              "    [theme=dark] .colab-df-convert:hover {\n",
              "      background-color: #434B5C;\n",
              "      box-shadow: 0px 1px 3px 1px rgba(0, 0, 0, 0.15);\n",
              "      filter: drop-shadow(0px 1px 2px rgba(0, 0, 0, 0.3));\n",
              "      fill: #FFFFFF;\n",
              "    }\n",
              "  </style>\n",
              "\n",
              "      <script>\n",
              "        const buttonEl =\n",
              "          document.querySelector('#df-6b4329d0-a6e3-492b-acc0-72275fa2b60d button.colab-df-convert');\n",
              "        buttonEl.style.display =\n",
              "          google.colab.kernel.accessAllowed ? 'block' : 'none';\n",
              "\n",
              "        async function convertToInteractive(key) {\n",
              "          const element = document.querySelector('#df-6b4329d0-a6e3-492b-acc0-72275fa2b60d');\n",
              "          const dataTable =\n",
              "            await google.colab.kernel.invokeFunction('convertToInteractive',\n",
              "                                                     [key], {});\n",
              "          if (!dataTable) return;\n",
              "\n",
              "          const docLinkHtml = 'Like what you see? Visit the ' +\n",
              "            '<a target=\"_blank\" href=https://colab.research.google.com/notebooks/data_table.ipynb>data table notebook</a>'\n",
              "            + ' to learn more about interactive tables.';\n",
              "          element.innerHTML = '';\n",
              "          dataTable['output_type'] = 'display_data';\n",
              "          await google.colab.output.renderOutput(dataTable, element);\n",
              "          const docLink = document.createElement('div');\n",
              "          docLink.innerHTML = docLinkHtml;\n",
              "          element.appendChild(docLink);\n",
              "        }\n",
              "      </script>\n",
              "    </div>\n",
              "  </div>\n",
              "  "
            ]
          },
          "metadata": {},
          "execution_count": 8
        }
      ]
    },
    {
      "cell_type": "code",
      "source": [
        "cv.best_params_"
      ],
      "metadata": {
        "colab": {
          "base_uri": "https://localhost:8080/"
        },
        "id": "wyon-6vmABcf",
        "outputId": "10ab6d57-e4f0-4fe0-ccb1-631bf29149e6"
      },
      "execution_count": null,
      "outputs": [
        {
          "output_type": "execute_result",
          "data": {
            "text/plain": [
              "{'sgdclassifier__alpha': 0.001,\n",
              " 'sgdclassifier__class_weight': 'balanced',\n",
              " 'sgdclassifier__loss': 'log',\n",
              " 'sgdclassifier__penalty': 'elasticnet'}"
            ]
          },
          "metadata": {},
          "execution_count": 9
        }
      ]
    },
    {
      "cell_type": "code",
      "source": [
        "cv.best_estimator_"
      ],
      "metadata": {
        "colab": {
          "base_uri": "https://localhost:8080/"
        },
        "id": "Ih7OezKoAXOr",
        "outputId": "d349cee2-3a36-4883-b2c3-fc2b4405c730"
      },
      "execution_count": null,
      "outputs": [
        {
          "output_type": "execute_result",
          "data": {
            "text/plain": [
              "Pipeline(steps=[('standardscaler', StandardScaler()),\n",
              "                ('sgdclassifier',\n",
              "                 SGDClassifier(alpha=0.001, class_weight='balanced', loss='log',\n",
              "                               penalty='elasticnet', random_state=100))])"
            ]
          },
          "metadata": {},
          "execution_count": 10
        }
      ]
    },
    {
      "cell_type": "markdown",
      "source": [
        "**Evaluar sobre el conjunto de entrenamiento (train)**"
      ],
      "metadata": {
        "id": "1_eoRjJLAhnn"
      }
    },
    {
      "cell_type": "code",
      "source": [
        "y_pred_train = cv.predict(X_train)\n",
        "print('Resultados para el mejor modelo conjunto train \\n')\n",
        "sns.heatmap(confusion_matrix(y_train, y_pred_train, normalize = 'true'), annot=True, fmt='g')\n",
        "print(classification_report(y_train, y_pred_train))"
      ],
      "metadata": {
        "colab": {
          "base_uri": "https://localhost:8080/",
          "height": 456
        },
        "id": "3DlPEOJlAiBk",
        "outputId": "d8278cc5-7c24-4eb5-c680-a1a3aaee41de"
      },
      "execution_count": null,
      "outputs": [
        {
          "output_type": "stream",
          "name": "stdout",
          "text": [
            "Resultados para el mejor modelo conjunto train \n",
            "\n",
            "              precision    recall  f1-score   support\n",
            "\n",
            "           0       0.90      0.89      0.90      1232\n",
            "           1       0.50      0.54      0.52       251\n",
            "\n",
            "    accuracy                           0.83      1483\n",
            "   macro avg       0.70      0.71      0.71      1483\n",
            "weighted avg       0.84      0.83      0.83      1483\n",
            "\n"
          ]
        },
        {
          "output_type": "display_data",
          "data": {
            "text/plain": [
              "<Figure size 432x288 with 2 Axes>"
            ],
            "image/png": "[encoded data removed]"
          },
          "metadata": {
            "needs_background": "light"
          }
        }
      ]
    },
    {
      "cell_type": "markdown",
      "source": [
        "**Evaluar sobre el conjunto de evaluación (test)**"
      ],
      "metadata": {
        "id": "QMZtuCURAok0"
      }
    },
    {
      "cell_type": "code",
      "source": [
        "y_pred = cv.predict(X_test)\n",
        "print('Resultados para el mejor modelo conjunto test \\n')\n",
        "sns.heatmap(confusion_matrix(y_test, y_pred, normalize = 'true'), annot=True, fmt='g')\n",
        "print(classification_report(y_test, y_pred))"
      ],
      "metadata": {
        "colab": {
          "base_uri": "https://localhost:8080/",
          "height": 456
        },
        "id": "kzaOKv-qApCq",
        "outputId": "9bf4df5a-91e5-466a-f504-c4ed95279923"
      },
      "execution_count": null,
      "outputs": [
        {
          "output_type": "stream",
          "name": "stdout",
          "text": [
            "Resultados para el mejor modelo conjunto test \n",
            "\n",
            "              precision    recall  f1-score   support\n",
            "\n",
            "           0       0.90      0.89      0.90       313\n",
            "           1       0.45      0.48      0.47        58\n",
            "\n",
            "    accuracy                           0.83       371\n",
            "   macro avg       0.68      0.69      0.68       371\n",
            "weighted avg       0.83      0.83      0.83       371\n",
            "\n"
          ]
        },
        {
          "output_type": "display_data",
          "data": {
            "text/plain": [
              "<Figure size 432x288 with 2 Axes>"
            ],
            "image/png": "[encoded data removed]"
          },
          "metadata": {
            "needs_background": "light"
          }
        }
      ]
    },
    {
      "cell_type": "markdown",
      "source": [
        "Usando como score el recall de ambas instancias, obtenemos que la mejor tasa de entrenamiento es 0,001, la mejor funcion de perdida es 'log' y la mejor penalidad es 'elasticnet'. Para efectuar esta optimización, utilizamos la opcion del SGDclassifier de balancear las clases (class_weight).\n",
        "\n",
        "Notamos que, nuestra función de score, recall de los clientes deudores, mejoro a un 48%.\n",
        "\n",
        "\n",
        "\n"
      ],
      "metadata": {
        "id": "ABtt4PEMBy6y"
      }
    },
    {
      "cell_type": "markdown",
      "metadata": {
        "id": "qQaky-chifb8"
      },
      "source": [
        "## Ejercicio 3: Árboles de Decisión\n",
        "\n",
        "En este ejercicio se entrenarán árboles de decisión para predecir la variable objetivo.\n",
        "\n",
        "Para ello, deberán utilizar la clase DecisionTreeClassifier de scikit-learn.\n",
        "\n",
        "Documentación:\n",
        "- https://scikit-learn.org/stable/modules/tree.html\n",
        "  - https://scikit-learn.org/stable/modules/tree.html#tips-on-practical-use\n",
        "- https://scikit-learn.org/stable/modules/generated/sklearn.tree.DecisionTreeClassifier.html\n",
        "- https://scikit-learn.org/stable/auto_examples/tree/plot_unveil_tree_structure.html"
      ]
    },
    {
      "cell_type": "markdown",
      "metadata": {
        "id": "rKyr5TJFifb8"
      },
      "source": [
        "### Ejercicio 3.1: DecisionTreeClassifier con hiperparámetros por defecto\n",
        "\n",
        "Entrenar y evaluar el clasificador DecisionTreeClassifier usando los valores por omisión de scikit-learn para todos los parámetros. Únicamente **fijar la semilla aleatoria** para hacer repetible el experimento.\n",
        "\n",
        "Evaluar sobre el conjunto de **entrenamiento** y sobre el conjunto de **evaluación**, reportando:\n",
        "- Accuracy\n",
        "- Precision\n",
        "- Recall\n",
        "- F1\n",
        "- matriz de confusión\n"
      ]
    },
    {
      "cell_type": "code",
      "source": [
        "clf_tree = DecisionTreeClassifier(random_state = 100)\n",
        "clf_tree.fit(X_train, y_train)"
      ],
      "metadata": {
        "colab": {
          "base_uri": "https://localhost:8080/"
        },
        "id": "Ko6FJ2Di1-bM",
        "outputId": "742680fe-27dc-46f0-841b-6131b2f48842"
      },
      "execution_count": null,
      "outputs": [
        {
          "output_type": "execute_result",
          "data": {
            "text/plain": [
              "DecisionTreeClassifier(random_state=100)"
            ]
          },
          "metadata": {},
          "execution_count": 13
        }
      ]
    },
    {
      "cell_type": "code",
      "source": [
        "clf_tree.get_params()"
      ],
      "metadata": {
        "colab": {
          "base_uri": "https://localhost:8080/"
        },
        "id": "mD0ETChTGdqP",
        "outputId": "226f2a37-b9fc-4b46-ce91-e04585edd92b"
      },
      "execution_count": null,
      "outputs": [
        {
          "output_type": "execute_result",
          "data": {
            "text/plain": [
              "{'ccp_alpha': 0.0,\n",
              " 'class_weight': None,\n",
              " 'criterion': 'gini',\n",
              " 'max_depth': None,\n",
              " 'max_features': None,\n",
              " 'max_leaf_nodes': None,\n",
              " 'min_impurity_decrease': 0.0,\n",
              " 'min_samples_leaf': 1,\n",
              " 'min_samples_split': 2,\n",
              " 'min_weight_fraction_leaf': 0.0,\n",
              " 'random_state': 100,\n",
              " 'splitter': 'best'}"
            ]
          },
          "metadata": {},
          "execution_count": 14
        }
      ]
    },
    {
      "cell_type": "code",
      "source": [
        "y_pred_train = clf_tree.predict(X_train)\n",
        "sns.heatmap(confusion_matrix(y_train, y_pred_train, normalize = 'true'), annot=True, fmt='g')\n",
        "print(classification_report(y_train, y_pred_train))"
      ],
      "metadata": {
        "colab": {
          "base_uri": "https://localhost:8080/",
          "height": 425
        },
        "id": "Y1pHJ8Ns2G6J",
        "outputId": "922211bf-5023-4274-885c-45681faec98d"
      },
      "execution_count": null,
      "outputs": [
        {
          "output_type": "stream",
          "name": "stdout",
          "text": [
            "              precision    recall  f1-score   support\n",
            "\n",
            "           0       1.00      1.00      1.00      1232\n",
            "           1       1.00      1.00      1.00       251\n",
            "\n",
            "    accuracy                           1.00      1483\n",
            "   macro avg       1.00      1.00      1.00      1483\n",
            "weighted avg       1.00      1.00      1.00      1483\n",
            "\n"
          ]
        },
        {
          "output_type": "display_data",
          "data": {
            "text/plain": [
              "<Figure size 432x288 with 2 Axes>"
            ],
            "image/png": "[encoded data removed]"
          },
          "metadata": {
            "needs_background": "light"
          }
        }
      ]
    },
    {
      "cell_type": "code",
      "source": [
        "from sklearn import tree\n",
        "tree.plot_tree(clf_tree);"
      ],
      "metadata": {
        "id": "z3fHdk6u2MkR",
        "outputId": "39fb385c-2b3c-4021-baaf-310a954e426e",
        "colab": {
          "base_uri": "https://localhost:8080/",
          "height": 248
        }
      },
      "execution_count": null,
      "outputs": [
        {
          "output_type": "display_data",
          "data": {
            "text/plain": [
              "<Figure size 432x288 with 1 Axes>"
            ],
            "image/png": "[encoded data removed]"
          },
          "metadata": {
            "needs_background": "light"
          }
        }
      ]
    },
    {
      "cell_type": "code",
      "source": [
        "y_pred = clf_tree.predict(X_test)\n",
        "sns.heatmap(confusion_matrix(y_test, y_pred, normalize = 'true'), annot= True, fmt='g')\n",
        "print(classification_report(y_test, y_pred))"
      ],
      "metadata": {
        "id": "lV2LuZ512duS",
        "outputId": "7c553a05-d703-4bd3-ba88-a526c6676cc0",
        "colab": {
          "base_uri": "https://localhost:8080/",
          "height": 421
        }
      },
      "execution_count": null,
      "outputs": [
        {
          "output_type": "stream",
          "name": "stdout",
          "text": [
            "              precision    recall  f1-score   support\n",
            "\n",
            "           0       0.94      0.95      0.94       313\n",
            "           1       0.72      0.66      0.68        58\n",
            "\n",
            "    accuracy                           0.91       371\n",
            "   macro avg       0.83      0.80      0.81       371\n",
            "weighted avg       0.90      0.91      0.90       371\n",
            "\n"
          ]
        },
        {
          "output_type": "display_data",
          "data": {
            "text/plain": [
              "<Figure size 432x288 with 2 Axes>"
            ],
            "image/png": "[encoded data removed]"
          },
          "metadata": {
            "needs_background": "light"
          }
        }
      ]
    },
    {
      "cell_type": "markdown",
      "source": [
        "El argumento de profundidad máxima por default es None, que implica que el árbol aumenta profundidad hasta que todas las hojas sean puras, o hasta que la cantidad de registros en un hoja sea igual a min_sample_split. \n",
        "\n",
        "Es por esto que el árbol en la instancia de entrenamiento se ajusto perfectamente y no asi en el conjunto de test. Por ende se trata de un overfitting."
      ],
      "metadata": {
        "id": "BNO5_ngSE2fg"
      }
    },
    {
      "cell_type": "markdown",
      "metadata": {
        "id": "_9V6Pc66ifb9"
      },
      "source": [
        "### Ejercicio 3.2: Ajuste de Hiperparámetros\n",
        "\n",
        "Seleccionar valores para los hiperparámetros principales del DecisionTreeClassifier. Como mínimo, probar diferentes criterios de partición (criterion), profundidad máxima del árbol (max_depth), y cantidad mínima de samples por hoja (min_samples_leaf).\n",
        "\n",
        "Para ello, usar grid-search y 5-fold cross-validation sobre el conjunto de entrenamiento para explorar muchas combinaciones posibles de valores.\n",
        "\n",
        "Reportar accuracy promedio y varianza para todas las configuraciones.\n",
        "\n",
        "Para la mejor configuración encontrada, evaluar sobre el conjunto de **entrenamiento** y sobre el conjunto de **evaluación**, reportando:\n",
        "- Accuracy\n",
        "- Precision\n",
        "- Recall\n",
        "- F1\n",
        "- matriz de confusión\n",
        "\n",
        "\n",
        "Documentación:\n",
        "- https://scikit-learn.org/stable/modules/grid_search.html\n",
        "- https://scikit-learn.org/stable/modules/generated/sklearn.model_selection.GridSearchCV.html"
      ]
    },
    {
      "cell_type": "code",
      "source": [
        "model_tree = DecisionTreeClassifier(random_state = 100)\n"
      ],
      "metadata": {
        "id": "3RXCWlyi2tPS"
      },
      "execution_count": null,
      "outputs": []
    },
    {
      "cell_type": "code",
      "source": [
        "\n",
        "criterion = ['gini', 'entropy']\n",
        "max_depth = [2,4,6,8,10,12,15]\n",
        "\n",
        "param_grid = dict(criterion=criterion,\n",
        "                  max_depth=max_depth,\n",
        "                  min_samples_leaf = range(1,10),\n",
        "                  min_samples_split = range(2,5),\n",
        "                  class_weight= ['balanced']\n",
        "                  )"
      ],
      "metadata": {
        "id": "RCiUEvaQ4NvT"
      },
      "execution_count": null,
      "outputs": []
    },
    {
      "cell_type": "markdown",
      "source": [
        "Se usa para el tunning de los hiperparametros del modelo la métrica recall porque es la métrica que peor performance tiene debido a que es un dataset desbalanceado (más registros positivos que negativos)"
      ],
      "metadata": {
        "id": "UXr0YiKUDBYS"
      }
    },
    {
      "cell_type": "code",
      "source": [
        "cv = GridSearchCV(model_tree, param_grid, scoring='recall', cv=5)\n",
        "cv.fit(X_train, y_train)\n",
        "\n",
        "results = cv.cv_results_\n",
        "df = pd.DataFrame(results)\n",
        "\n",
        "df.sort_values('rank_test_score')"
      ],
      "metadata": {
        "id": "51TpaOC45GV4",
        "colab": {
          "base_uri": "https://localhost:8080/",
          "height": 1000
        },
        "outputId": "63906222-c16f-4aca-8429-16d555a250ac"
      },
      "execution_count": null,
      "outputs": [
        {
          "output_type": "execute_result",
          "data": {
            "text/plain": [
              "     mean_fit_time  std_fit_time  mean_score_time  std_score_time  \\\n",
              "77        0.007568      0.000141         0.002532        0.000047   \n",
              "76        0.007513      0.000079         0.002469        0.000080   \n",
              "75        0.007666      0.000142         0.002563        0.000061   \n",
              "79        0.007558      0.000140         0.002551        0.000126   \n",
              "78        0.007562      0.000146         0.002501        0.000084   \n",
              "..             ...           ...              ...             ...   \n",
              "190       0.006103      0.000193         0.002712        0.000134   \n",
              "191       0.005894      0.000045         0.002534        0.000063   \n",
              "192       0.006221      0.000359         0.002804        0.000160   \n",
              "16        0.007856      0.000491         0.004550        0.000120   \n",
              "0         0.006536      0.000501         0.004107        0.001105   \n",
              "\n",
              "    param_class_weight param_criterion param_max_depth param_min_samples_leaf  \\\n",
              "77            balanced            gini               6                      8   \n",
              "76            balanced            gini               6                      8   \n",
              "75            balanced            gini               6                      8   \n",
              "79            balanced            gini               6                      9   \n",
              "78            balanced            gini               6                      9   \n",
              "..                 ...             ...             ...                    ...   \n",
              "190           balanced         entropy               2                      1   \n",
              "191           balanced         entropy               2                      1   \n",
              "192           balanced         entropy               2                      2   \n",
              "16            balanced            gini               2                      6   \n",
              "0             balanced            gini               2                      1   \n",
              "\n",
              "    param_min_samples_split  \\\n",
              "77                        4   \n",
              "76                        3   \n",
              "75                        2   \n",
              "79                        3   \n",
              "78                        2   \n",
              "..                      ...   \n",
              "190                       3   \n",
              "191                       4   \n",
              "192                       2   \n",
              "16                        3   \n",
              "0                         2   \n",
              "\n",
              "                                                params  split0_test_score  \\\n",
              "77   {'class_weight': 'balanced', 'criterion': 'gin...               0.62   \n",
              "76   {'class_weight': 'balanced', 'criterion': 'gin...               0.62   \n",
              "75   {'class_weight': 'balanced', 'criterion': 'gin...               0.62   \n",
              "79   {'class_weight': 'balanced', 'criterion': 'gin...               0.62   \n",
              "78   {'class_weight': 'balanced', 'criterion': 'gin...               0.62   \n",
              "..                                                 ...                ...   \n",
              "190  {'class_weight': 'balanced', 'criterion': 'ent...               0.40   \n",
              "191  {'class_weight': 'balanced', 'criterion': 'ent...               0.40   \n",
              "192  {'class_weight': 'balanced', 'criterion': 'ent...               0.40   \n",
              "16   {'class_weight': 'balanced', 'criterion': 'gin...               0.40   \n",
              "0    {'class_weight': 'balanced', 'criterion': 'gin...               0.40   \n",
              "\n",
              "     split1_test_score  split2_test_score  split3_test_score  \\\n",
              "77                0.66           0.745098               0.82   \n",
              "76                0.66           0.745098               0.82   \n",
              "75                0.66           0.745098               0.82   \n",
              "79                0.66           0.745098               0.82   \n",
              "78                0.66           0.745098               0.82   \n",
              "..                 ...                ...                ...   \n",
              "190               0.62           0.431373               0.58   \n",
              "191               0.62           0.431373               0.58   \n",
              "192               0.62           0.431373               0.58   \n",
              "16                0.62           0.431373               0.58   \n",
              "0                 0.62           0.431373               0.58   \n",
              "\n",
              "     split4_test_score  mean_test_score  std_test_score  rank_test_score  \n",
              "77                0.70         0.709020        0.069321                1  \n",
              "76                0.70         0.709020        0.069321                1  \n",
              "75                0.70         0.709020        0.069321                1  \n",
              "79                0.66         0.701020        0.072151                4  \n",
              "78                0.66         0.701020        0.072151                4  \n",
              "..                 ...              ...             ...              ...  \n",
              "190               0.50         0.506275        0.084039              352  \n",
              "191               0.50         0.506275        0.084039              352  \n",
              "192               0.50         0.506275        0.084039              352  \n",
              "16                0.50         0.506275        0.084039              352  \n",
              "0                 0.50         0.506275        0.084039              352  \n",
              "\n",
              "[378 rows x 18 columns]"
            ],
            "text/html": [
              "\n",
              "  <div id=\"df-191ef429-0a58-484c-8a0f-b92d4c706cd9\">\n",
              "    <div class=\"colab-df-container\">\n",
              "      <div>\n",
              "<style scoped>\n",
              "    .dataframe tbody tr th:only-of-type {\n",
              "        vertical-align: middle;\n",
              "    }\n",
              "\n",
              "    .dataframe tbody tr th {\n",
              "        vertical-align: top;\n",
              "    }\n",
              "\n",
              "    .dataframe thead th {\n",
              "        text-align: right;\n",
              "    }\n",
              "</style>\n",
              "<table border=\"1\" class=\"dataframe\">\n",
              "  <thead>\n",
              "    <tr style=\"text-align: right;\">\n",
              "      <th></th>\n",
              "      <th>mean_fit_time</th>\n",
              "      <th>std_fit_time</th>\n",
              "      <th>mean_score_time</th>\n",
              "      <th>std_score_time</th>\n",
              "      <th>param_class_weight</th>\n",
              "      <th>param_criterion</th>\n",
              "      <th>param_max_depth</th>\n",
              "      <th>param_min_samples_leaf</th>\n",
              "      <th>param_min_samples_split</th>\n",
              "      <th>params</th>\n",
              "      <th>split0_test_score</th>\n",
              "      <th>split1_test_score</th>\n",
              "      <th>split2_test_score</th>\n",
              "      <th>split3_test_score</th>\n",
              "      <th>split4_test_score</th>\n",
              "      <th>mean_test_score</th>\n",
              "      <th>std_test_score</th>\n",
              "      <th>rank_test_score</th>\n",
              "    </tr>\n",
              "  </thead>\n",
              "  <tbody>\n",
              "    <tr>\n",
              "      <th>77</th>\n",
              "      <td>0.007568</td>\n",
              "      <td>0.000141</td>\n",
              "      <td>0.002532</td>\n",
              "      <td>0.000047</td>\n",
              "      <td>balanced</td>\n",
              "      <td>gini</td>\n",
              "      <td>6</td>\n",
              "      <td>8</td>\n",
              "      <td>4</td>\n",
              "      <td>{'class_weight': 'balanced', 'criterion': 'gin...</td>\n",
              "      <td>0.62</td>\n",
              "      <td>0.66</td>\n",
              "      <td>0.745098</td>\n",
              "      <td>0.82</td>\n",
              "      <td>0.70</td>\n",
              "      <td>0.709020</td>\n",
              "      <td>0.069321</td>\n",
              "      <td>1</td>\n",
              "    </tr>\n",
              "    <tr>\n",
              "      <th>76</th>\n",
              "      <td>0.007513</td>\n",
              "      <td>0.000079</td>\n",
              "      <td>0.002469</td>\n",
              "      <td>0.000080</td>\n",
              "      <td>balanced</td>\n",
              "      <td>gini</td>\n",
              "      <td>6</td>\n",
              "      <td>8</td>\n",
              "      <td>3</td>\n",
              "      <td>{'class_weight': 'balanced', 'criterion': 'gin...</td>\n",
              "      <td>0.62</td>\n",
              "      <td>0.66</td>\n",
              "      <td>0.745098</td>\n",
              "      <td>0.82</td>\n",
              "      <td>0.70</td>\n",
              "      <td>0.709020</td>\n",
              "      <td>0.069321</td>\n",
              "      <td>1</td>\n",
              "    </tr>\n",
              "    <tr>\n",
              "      <th>75</th>\n",
              "      <td>0.007666</td>\n",
              "      <td>0.000142</td>\n",
              "      <td>0.002563</td>\n",
              "      <td>0.000061</td>\n",
              "      <td>balanced</td>\n",
              "      <td>gini</td>\n",
              "      <td>6</td>\n",
              "      <td>8</td>\n",
              "      <td>2</td>\n",
              "      <td>{'class_weight': 'balanced', 'criterion': 'gin...</td>\n",
              "      <td>0.62</td>\n",
              "      <td>0.66</td>\n",
              "      <td>0.745098</td>\n",
              "      <td>0.82</td>\n",
              "      <td>0.70</td>\n",
              "      <td>0.709020</td>\n",
              "      <td>0.069321</td>\n",
              "      <td>1</td>\n",
              "    </tr>\n",
              "    <tr>\n",
              "      <th>79</th>\n",
              "      <td>0.007558</td>\n",
              "      <td>0.000140</td>\n",
              "      <td>0.002551</td>\n",
              "      <td>0.000126</td>\n",
              "      <td>balanced</td>\n",
              "      <td>gini</td>\n",
              "      <td>6</td>\n",
              "      <td>9</td>\n",
              "      <td>3</td>\n",
              "      <td>{'class_weight': 'balanced', 'criterion': 'gin...</td>\n",
              "      <td>0.62</td>\n",
              "      <td>0.66</td>\n",
              "      <td>0.745098</td>\n",
              "      <td>0.82</td>\n",
              "      <td>0.66</td>\n",
              "      <td>0.701020</td>\n",
              "      <td>0.072151</td>\n",
              "      <td>4</td>\n",
              "    </tr>\n",
              "    <tr>\n",
              "      <th>78</th>\n",
              "      <td>0.007562</td>\n",
              "      <td>0.000146</td>\n",
              "      <td>0.002501</td>\n",
              "      <td>0.000084</td>\n",
              "      <td>balanced</td>\n",
              "      <td>gini</td>\n",
              "      <td>6</td>\n",
              "      <td>9</td>\n",
              "      <td>2</td>\n",
              "      <td>{'class_weight': 'balanced', 'criterion': 'gin...</td>\n",
              "      <td>0.62</td>\n",
              "      <td>0.66</td>\n",
              "      <td>0.745098</td>\n",
              "      <td>0.82</td>\n",
              "      <td>0.66</td>\n",
              "      <td>0.701020</td>\n",
              "      <td>0.072151</td>\n",
              "      <td>4</td>\n",
              "    </tr>\n",
              "    <tr>\n",
              "      <th>...</th>\n",
              "      <td>...</td>\n",
              "      <td>...</td>\n",
              "      <td>...</td>\n",
              "      <td>...</td>\n",
              "      <td>...</td>\n",
              "      <td>...</td>\n",
              "      <td>...</td>\n",
              "      <td>...</td>\n",
              "      <td>...</td>\n",
              "      <td>...</td>\n",
              "      <td>...</td>\n",
              "      <td>...</td>\n",
              "      <td>...</td>\n",
              "      <td>...</td>\n",
              "      <td>...</td>\n",
              "      <td>...</td>\n",
              "      <td>...</td>\n",
              "      <td>...</td>\n",
              "    </tr>\n",
              "    <tr>\n",
              "      <th>190</th>\n",
              "      <td>0.006103</td>\n",
              "      <td>0.000193</td>\n",
              "      <td>0.002712</td>\n",
              "      <td>0.000134</td>\n",
              "      <td>balanced</td>\n",
              "      <td>entropy</td>\n",
              "      <td>2</td>\n",
              "      <td>1</td>\n",
              "      <td>3</td>\n",
              "      <td>{'class_weight': 'balanced', 'criterion': 'ent...</td>\n",
              "      <td>0.40</td>\n",
              "      <td>0.62</td>\n",
              "      <td>0.431373</td>\n",
              "      <td>0.58</td>\n",
              "      <td>0.50</td>\n",
              "      <td>0.506275</td>\n",
              "      <td>0.084039</td>\n",
              "      <td>352</td>\n",
              "    </tr>\n",
              "    <tr>\n",
              "      <th>191</th>\n",
              "      <td>0.005894</td>\n",
              "      <td>0.000045</td>\n",
              "      <td>0.002534</td>\n",
              "      <td>0.000063</td>\n",
              "      <td>balanced</td>\n",
              "      <td>entropy</td>\n",
              "      <td>2</td>\n",
              "      <td>1</td>\n",
              "      <td>4</td>\n",
              "      <td>{'class_weight': 'balanced', 'criterion': 'ent...</td>\n",
              "      <td>0.40</td>\n",
              "      <td>0.62</td>\n",
              "      <td>0.431373</td>\n",
              "      <td>0.58</td>\n",
              "      <td>0.50</td>\n",
              "      <td>0.506275</td>\n",
              "      <td>0.084039</td>\n",
              "      <td>352</td>\n",
              "    </tr>\n",
              "    <tr>\n",
              "      <th>192</th>\n",
              "      <td>0.006221</td>\n",
              "      <td>0.000359</td>\n",
              "      <td>0.002804</td>\n",
              "      <td>0.000160</td>\n",
              "      <td>balanced</td>\n",
              "      <td>entropy</td>\n",
              "      <td>2</td>\n",
              "      <td>2</td>\n",
              "      <td>2</td>\n",
              "      <td>{'class_weight': 'balanced', 'criterion': 'ent...</td>\n",
              "      <td>0.40</td>\n",
              "      <td>0.62</td>\n",
              "      <td>0.431373</td>\n",
              "      <td>0.58</td>\n",
              "      <td>0.50</td>\n",
              "      <td>0.506275</td>\n",
              "      <td>0.084039</td>\n",
              "      <td>352</td>\n",
              "    </tr>\n",
              "    <tr>\n",
              "      <th>16</th>\n",
              "      <td>0.007856</td>\n",
              "      <td>0.000491</td>\n",
              "      <td>0.004550</td>\n",
              "      <td>0.000120</td>\n",
              "      <td>balanced</td>\n",
              "      <td>gini</td>\n",
              "      <td>2</td>\n",
              "      <td>6</td>\n",
              "      <td>3</td>\n",
              "      <td>{'class_weight': 'balanced', 'criterion': 'gin...</td>\n",
              "      <td>0.40</td>\n",
              "      <td>0.62</td>\n",
              "      <td>0.431373</td>\n",
              "      <td>0.58</td>\n",
              "      <td>0.50</td>\n",
              "      <td>0.506275</td>\n",
              "      <td>0.084039</td>\n",
              "      <td>352</td>\n",
              "    </tr>\n",
              "    <tr>\n",
              "      <th>0</th>\n",
              "      <td>0.006536</td>\n",
              "      <td>0.000501</td>\n",
              "      <td>0.004107</td>\n",
              "      <td>0.001105</td>\n",
              "      <td>balanced</td>\n",
              "      <td>gini</td>\n",
              "      <td>2</td>\n",
              "      <td>1</td>\n",
              "      <td>2</td>\n",
              "      <td>{'class_weight': 'balanced', 'criterion': 'gin...</td>\n",
              "      <td>0.40</td>\n",
              "      <td>0.62</td>\n",
              "      <td>0.431373</td>\n",
              "      <td>0.58</td>\n",
              "      <td>0.50</td>\n",
              "      <td>0.506275</td>\n",
              "      <td>0.084039</td>\n",
              "      <td>352</td>\n",
              "    </tr>\n",
              "  </tbody>\n",
              "</table>\n",
              "<p>378 rows × 18 columns</p>\n",
              "</div>\n",
              "      <button class=\"colab-df-convert\" onclick=\"convertToInteractive('df-191ef429-0a58-484c-8a0f-b92d4c706cd9')\"\n",
              "              title=\"Convert this dataframe to an interactive table.\"\n",
              "              style=\"display:none;\">\n",
              "        \n",
              "  <svg xmlns=\"http://www.w3.org/2000/svg\" height=\"24px\"viewBox=\"0 0 24 24\"\n",
              "       width=\"24px\">\n",
              "    <path d=\"M0 0h24v24H0V0z\" fill=\"none\"/>\n",
              "    <path d=\"M18.56 5.44l.94 2.06.94-2.06 2.06-.94-2.06-.94-.94-2.06-.94 2.06-2.06.94zm-11 1L8.5 8.5l.94-2.06 2.06-.94-2.06-.94L8.5 2.5l-.94 2.06-2.06.94zm10 10l.94 2.06.94-2.06 2.06-.94-2.06-.94-.94-2.06-.94 2.06-2.06.94z\"/><path d=\"M17.41 7.96l-1.37-1.37c-.4-.4-.92-.59-1.43-.59-.52 0-1.04.2-1.43.59L10.3 9.45l-7.72 7.72c-.78.78-.78 2.05 0 2.83L4 21.41c.39.39.9.59 1.41.59.51 0 1.02-.2 1.41-.59l7.78-7.78 2.81-2.81c.8-.78.8-2.07 0-2.86zM5.41 20L4 18.59l7.72-7.72 1.47 1.35L5.41 20z\"/>\n",
              "  </svg>\n",
              "      </button>\n",
              "      \n",
              "  <style>\n",
              "    .colab-df-container {\n",
              "      display:flex;\n",
              "      flex-wrap:wrap;\n",
              "      gap: 12px;\n",
              "    }\n",
              "\n",
              "    .colab-df-convert {\n",
              "      background-color: #E8F0FE;\n",
              "      border: none;\n",
              "      border-radius: 50%;\n",
              "      cursor: pointer;\n",
              "      display: none;\n",
              "      fill: #1967D2;\n",
              "      height: 32px;\n",
              "      padding: 0 0 0 0;\n",
              "      width: 32px;\n",
              "    }\n",
              "\n",
              "    .colab-df-convert:hover {\n",
              "      background-color: #E2EBFA;\n",
              "      box-shadow: 0px 1px 2px rgba(60, 64, 67, 0.3), 0px 1px 3px 1px rgba(60, 64, 67, 0.15);\n",
              "      fill: #174EA6;\n",
              "    }\n",
              "\n",
              "    [theme=dark] .colab-df-convert {\n",
              "      background-color: #3B4455;\n",
              "      fill: #D2E3FC;\n",
              "    }\n",
              "\n",
              "    [theme=dark] .colab-df-convert:hover {\n",
              "      background-color: #434B5C;\n",
              "      box-shadow: 0px 1px 3px 1px rgba(0, 0, 0, 0.15);\n",
              "      filter: drop-shadow(0px 1px 2px rgba(0, 0, 0, 0.3));\n",
              "      fill: #FFFFFF;\n",
              "    }\n",
              "  </style>\n",
              "\n",
              "      <script>\n",
              "        const buttonEl =\n",
              "          document.querySelector('#df-191ef429-0a58-484c-8a0f-b92d4c706cd9 button.colab-df-convert');\n",
              "        buttonEl.style.display =\n",
              "          google.colab.kernel.accessAllowed ? 'block' : 'none';\n",
              "\n",
              "        async function convertToInteractive(key) {\n",
              "          const element = document.querySelector('#df-191ef429-0a58-484c-8a0f-b92d4c706cd9');\n",
              "          const dataTable =\n",
              "            await google.colab.kernel.invokeFunction('convertToInteractive',\n",
              "                                                     [key], {});\n",
              "          if (!dataTable) return;\n",
              "\n",
              "          const docLinkHtml = 'Like what you see? Visit the ' +\n",
              "            '<a target=\"_blank\" href=https://colab.research.google.com/notebooks/data_table.ipynb>data table notebook</a>'\n",
              "            + ' to learn more about interactive tables.';\n",
              "          element.innerHTML = '';\n",
              "          dataTable['output_type'] = 'display_data';\n",
              "          await google.colab.output.renderOutput(dataTable, element);\n",
              "          const docLink = document.createElement('div');\n",
              "          docLink.innerHTML = docLinkHtml;\n",
              "          element.appendChild(docLink);\n",
              "        }\n",
              "      </script>\n",
              "    </div>\n",
              "  </div>\n",
              "  "
            ]
          },
          "metadata": {},
          "execution_count": 20
        }
      ]
    },
    {
      "cell_type": "code",
      "source": [
        "cv.best_params_"
      ],
      "metadata": {
        "id": "kFR6tVUD3hUU",
        "colab": {
          "base_uri": "https://localhost:8080/"
        },
        "outputId": "3ace4bbd-3517-4779-de0b-2af2129de69f"
      },
      "execution_count": null,
      "outputs": [
        {
          "output_type": "execute_result",
          "data": {
            "text/plain": [
              "{'class_weight': 'balanced',\n",
              " 'criterion': 'gini',\n",
              " 'max_depth': 6,\n",
              " 'min_samples_leaf': 8,\n",
              " 'min_samples_split': 2}"
            ]
          },
          "metadata": {},
          "execution_count": 21
        }
      ]
    },
    {
      "cell_type": "markdown",
      "source": [
        "**Evaluar sobre el conjunto de entrenamiento (train)**"
      ],
      "metadata": {
        "id": "PC-kyzkL3hUW"
      }
    },
    {
      "cell_type": "code",
      "source": [
        "y_pred_train = cv.predict(X_train)\n",
        "print('Resultados para el mejor modelo conjunto train \\n')\n",
        "sns.heatmap(confusion_matrix(y_train, y_pred_train, normalize = 'true'), annot=True, fmt='g')\n",
        "print(classification_report(y_train, y_pred_train))"
      ],
      "metadata": {
        "id": "x8t5SW4u3hUW",
        "colab": {
          "base_uri": "https://localhost:8080/",
          "height": 456
        },
        "outputId": "8989dfd0-918f-4b1e-debd-8091fc9e4277"
      },
      "execution_count": null,
      "outputs": [
        {
          "output_type": "stream",
          "name": "stdout",
          "text": [
            "Resultados para el mejor modelo conjunto train \n",
            "\n",
            "              precision    recall  f1-score   support\n",
            "\n",
            "           0       0.95      0.86      0.90      1232\n",
            "           1       0.54      0.78      0.64       251\n",
            "\n",
            "    accuracy                           0.85      1483\n",
            "   macro avg       0.74      0.82      0.77      1483\n",
            "weighted avg       0.88      0.85      0.86      1483\n",
            "\n"
          ]
        },
        {
          "output_type": "display_data",
          "data": {
            "text/plain": [
              "<Figure size 432x288 with 2 Axes>"
            ],
            "image/png": "[encoded data removed]"
          },
          "metadata": {
            "needs_background": "light"
          }
        }
      ]
    },
    {
      "cell_type": "markdown",
      "source": [
        "**Evaluar sobre el conjunto de evaluación (test)**"
      ],
      "metadata": {
        "id": "tSoBEJh_3hUX"
      }
    },
    {
      "cell_type": "code",
      "source": [
        "y_pred = cv.predict(X_test)\n",
        "print('Resultados para el mejor modelo conjunto test \\n')\n",
        "sns.heatmap(confusion_matrix(y_test, y_pred, normalize = 'true'), annot=True, fmt='g')\n",
        "print(classification_report(y_test, y_pred))"
      ],
      "metadata": {
        "id": "X248LFBB3hUX",
        "colab": {
          "base_uri": "https://localhost:8080/",
          "height": 456
        },
        "outputId": "2853a8b1-693c-404f-b302-cf85d122cb7a"
      },
      "execution_count": null,
      "outputs": [
        {
          "output_type": "stream",
          "name": "stdout",
          "text": [
            "Resultados para el mejor modelo conjunto test \n",
            "\n",
            "              precision    recall  f1-score   support\n",
            "\n",
            "           0       0.94      0.81      0.87       313\n",
            "           1       0.43      0.74      0.54        58\n",
            "\n",
            "    accuracy                           0.80       371\n",
            "   macro avg       0.69      0.78      0.71       371\n",
            "weighted avg       0.86      0.80      0.82       371\n",
            "\n"
          ]
        },
        {
          "output_type": "display_data",
          "data": {
            "text/plain": [
              "<Figure size 432x288 with 2 Axes>"
            ],
            "image/png": "[encoded data removed]"
          },
          "metadata": {
            "needs_background": "light"
          }
        }
      ]
    },
    {
      "cell_type": "markdown",
      "source": [
        "\n",
        "\n",
        " Los hiperparametros seleccionados luego de optimizarlos utilizando un GridSearch con 5 Folds en la Cross Validation son los siguientes:\n",
        "* Criterio de división (criterion): 'gini',\n",
        "* Profundidad máxima del árbol: 6,\n",
        "* Mínimo número de registros por hoja: 8,\n",
        "* Mínimo número de registros de un nodo: 2\n",
        "\n",
        "Para este modelo también utilizamos el hiperparametro *class_weight* como 'balanced' para balancear las clases de acuerdo a la cantidad de registros y así optimizar el recall de los clientes que son deudores.\n",
        "\n",
        "Obtuvimos un accuracy del conjunto Train de 85% y del conjunto de Test de 80%, con lo que identificamos que no hay Overfitting.\n",
        "\n",
        "Finalmente al obtener un **Recall** de clientes deudores (1) del **74%** en el conjunto de Test concluímos que es un modelo optimizado para el objetivo interpretado y también comparando con el SGD Classifier entrenado anteriormente.\n"
      ],
      "metadata": {
        "id": "dhYNh3skH78h"
      }
    }
  ],
  "metadata": {
    "kernelspec": {
      "display_name": "Python 3",
      "language": "python",
      "name": "python3"
    },
    "language_info": {
      "codemirror_mode": {
        "name": "ipython",
        "version": 3
      },
      "file_extension": ".py",
      "mimetype": "text/x-python",
      "name": "python",
      "nbconvert_exporter": "python",
      "pygments_lexer": "ipython3",
      "version": "3.8.10"
    },
    "colab": {
      "name": "G25_IAA_entregable_parte2.ipynb",
      "provenance": [],
      "collapsed_sections": []
    }
  },
  "nbformat": 4,
  "nbformat_minor": 0
}